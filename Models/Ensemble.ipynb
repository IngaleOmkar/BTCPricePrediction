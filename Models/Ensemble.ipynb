{
 "cells": [
  {
   "cell_type": "code",
   "execution_count": 1,
   "metadata": {},
   "outputs": [],
   "source": [
    "import pandas as pd\n",
    "import numpy as np\n",
    "from tensorflow.keras.models import Sequential\n",
    "from tensorflow.keras.layers import *\n",
    "from tensorflow.keras.callbacks import ModelCheckpoint\n",
    "from tensorflow.keras.losses import MeanSquaredError\n",
    "from tensorflow.keras.metrics import RootMeanSquaredError, MeanAbsoluteError\n",
    "from sklearn.preprocessing import MinMaxScaler\n",
    "from tensorflow.keras.optimizers import Adam, SGD\n",
    "from tensorflow.keras.models import load_model\n",
    "import matplotlib.pyplot as plt\n",
    "import seaborn as sns"
   ]
  },
  {
   "cell_type": "code",
   "execution_count": 2,
   "metadata": {},
   "outputs": [],
   "source": [
    "# Creating multiple dataframe with different \"look back\" periods\n",
    "# The periods are 1 day, 3 days. 7 days. 15 days. 30 days and 60 days\n",
    "# The look back periods should be in the form of a list\n",
    "# For example, if the look back period is 3, then the dataframe should have 3 columns\n",
    "# Date, Close, [Close(t-1), Close(t-2), Close(t-3)]\n",
    "\n",
    "def create_look_back_arrays(df, window_size = 1):\n",
    "    df = df.drop(columns = ['Date'])\n",
    "    df_as_np = df.to_numpy()\n",
    "    X = []\n",
    "    Y = []\n",
    "    for i in range(len(df_as_np) - window_size):\n",
    "        X.append(df_as_np[i:i+window_size])\n",
    "        Y.append(df_as_np[i+window_size])\n",
    "    return np.array(X), np.array(Y)"
   ]
  },
  {
   "cell_type": "code",
   "execution_count": 3,
   "metadata": {},
   "outputs": [],
   "source": [
    "df = pd.read_csv('../Data/ethereum_data.csv')"
   ]
  },
  {
   "cell_type": "code",
   "execution_count": 4,
   "metadata": {},
   "outputs": [
    {
     "data": {
      "text/html": [
       "<div>\n",
       "<style scoped>\n",
       "    .dataframe tbody tr th:only-of-type {\n",
       "        vertical-align: middle;\n",
       "    }\n",
       "\n",
       "    .dataframe tbody tr th {\n",
       "        vertical-align: top;\n",
       "    }\n",
       "\n",
       "    .dataframe thead th {\n",
       "        text-align: right;\n",
       "    }\n",
       "</style>\n",
       "<table border=\"1\" class=\"dataframe\">\n",
       "  <thead>\n",
       "    <tr style=\"text-align: right;\">\n",
       "      <th></th>\n",
       "      <th>Date</th>\n",
       "      <th>Open</th>\n",
       "      <th>High</th>\n",
       "      <th>Low</th>\n",
       "      <th>Close</th>\n",
       "      <th>Adj Close</th>\n",
       "      <th>Volume</th>\n",
       "    </tr>\n",
       "  </thead>\n",
       "  <tbody>\n",
       "    <tr>\n",
       "      <th>0</th>\n",
       "      <td>2017-11-09</td>\n",
       "      <td>308.644989</td>\n",
       "      <td>329.451996</td>\n",
       "      <td>307.056000</td>\n",
       "      <td>320.884003</td>\n",
       "      <td>320.884003</td>\n",
       "      <td>893249984</td>\n",
       "    </tr>\n",
       "    <tr>\n",
       "      <th>1</th>\n",
       "      <td>2017-11-10</td>\n",
       "      <td>320.670990</td>\n",
       "      <td>324.717987</td>\n",
       "      <td>294.541992</td>\n",
       "      <td>299.252991</td>\n",
       "      <td>299.252991</td>\n",
       "      <td>885985984</td>\n",
       "    </tr>\n",
       "    <tr>\n",
       "      <th>2</th>\n",
       "      <td>2017-11-11</td>\n",
       "      <td>298.585999</td>\n",
       "      <td>319.453003</td>\n",
       "      <td>298.191986</td>\n",
       "      <td>314.681000</td>\n",
       "      <td>314.681000</td>\n",
       "      <td>842300992</td>\n",
       "    </tr>\n",
       "    <tr>\n",
       "      <th>3</th>\n",
       "      <td>2017-11-12</td>\n",
       "      <td>314.690002</td>\n",
       "      <td>319.153015</td>\n",
       "      <td>298.513000</td>\n",
       "      <td>307.907990</td>\n",
       "      <td>307.907990</td>\n",
       "      <td>1613479936</td>\n",
       "    </tr>\n",
       "    <tr>\n",
       "      <th>4</th>\n",
       "      <td>2017-11-13</td>\n",
       "      <td>307.024994</td>\n",
       "      <td>328.415009</td>\n",
       "      <td>307.024994</td>\n",
       "      <td>316.716003</td>\n",
       "      <td>316.716003</td>\n",
       "      <td>1041889984</td>\n",
       "    </tr>\n",
       "    <tr>\n",
       "      <th>...</th>\n",
       "      <td>...</td>\n",
       "      <td>...</td>\n",
       "      <td>...</td>\n",
       "      <td>...</td>\n",
       "      <td>...</td>\n",
       "      <td>...</td>\n",
       "      <td>...</td>\n",
       "    </tr>\n",
       "    <tr>\n",
       "      <th>1660</th>\n",
       "      <td>2022-05-27</td>\n",
       "      <td>1802.543823</td>\n",
       "      <td>1814.656494</td>\n",
       "      <td>1721.264771</td>\n",
       "      <td>1724.922852</td>\n",
       "      <td>1724.922852</td>\n",
       "      <td>25470760032</td>\n",
       "    </tr>\n",
       "    <tr>\n",
       "      <th>1661</th>\n",
       "      <td>2022-05-28</td>\n",
       "      <td>1724.635986</td>\n",
       "      <td>1757.941772</td>\n",
       "      <td>1724.635986</td>\n",
       "      <td>1757.941772</td>\n",
       "      <td>1757.941772</td>\n",
       "      <td>23214777872</td>\n",
       "    </tr>\n",
       "    <tr>\n",
       "      <th>1662</th>\n",
       "      <td>2022-05-29</td>\n",
       "      <td>1792.184448</td>\n",
       "      <td>1818.776611</td>\n",
       "      <td>1765.937378</td>\n",
       "      <td>1812.031006</td>\n",
       "      <td>1812.031006</td>\n",
       "      <td>10642556101</td>\n",
       "    </tr>\n",
       "    <tr>\n",
       "      <th>1663</th>\n",
       "      <td>2022-05-30</td>\n",
       "      <td>1811.885986</td>\n",
       "      <td>2005.210815</td>\n",
       "      <td>1804.456055</td>\n",
       "      <td>1996.441284</td>\n",
       "      <td>1996.441284</td>\n",
       "      <td>19580808705</td>\n",
       "    </tr>\n",
       "    <tr>\n",
       "      <th>1664</th>\n",
       "      <td>2022-05-31</td>\n",
       "      <td>1996.408081</td>\n",
       "      <td>2005.490967</td>\n",
       "      <td>1932.352051</td>\n",
       "      <td>1942.328003</td>\n",
       "      <td>1942.328003</td>\n",
       "      <td>18363115560</td>\n",
       "    </tr>\n",
       "  </tbody>\n",
       "</table>\n",
       "<p>1665 rows × 7 columns</p>\n",
       "</div>"
      ],
      "text/plain": [
       "            Date         Open         High          Low        Close  \\\n",
       "0     2017-11-09   308.644989   329.451996   307.056000   320.884003   \n",
       "1     2017-11-10   320.670990   324.717987   294.541992   299.252991   \n",
       "2     2017-11-11   298.585999   319.453003   298.191986   314.681000   \n",
       "3     2017-11-12   314.690002   319.153015   298.513000   307.907990   \n",
       "4     2017-11-13   307.024994   328.415009   307.024994   316.716003   \n",
       "...          ...          ...          ...          ...          ...   \n",
       "1660  2022-05-27  1802.543823  1814.656494  1721.264771  1724.922852   \n",
       "1661  2022-05-28  1724.635986  1757.941772  1724.635986  1757.941772   \n",
       "1662  2022-05-29  1792.184448  1818.776611  1765.937378  1812.031006   \n",
       "1663  2022-05-30  1811.885986  2005.210815  1804.456055  1996.441284   \n",
       "1664  2022-05-31  1996.408081  2005.490967  1932.352051  1942.328003   \n",
       "\n",
       "        Adj Close       Volume  \n",
       "0      320.884003    893249984  \n",
       "1      299.252991    885985984  \n",
       "2      314.681000    842300992  \n",
       "3      307.907990   1613479936  \n",
       "4      316.716003   1041889984  \n",
       "...           ...          ...  \n",
       "1660  1724.922852  25470760032  \n",
       "1661  1757.941772  23214777872  \n",
       "1662  1812.031006  10642556101  \n",
       "1663  1996.441284  19580808705  \n",
       "1664  1942.328003  18363115560  \n",
       "\n",
       "[1665 rows x 7 columns]"
      ]
     },
     "execution_count": 4,
     "metadata": {},
     "output_type": "execute_result"
    }
   ],
   "source": [
    "df"
   ]
  },
  {
   "cell_type": "code",
   "execution_count": 5,
   "metadata": {},
   "outputs": [
    {
     "name": "stderr",
     "output_type": "stream",
     "text": [
      "/var/folders/76/w363ly_90ln6pf3txlrc64bw0000gn/T/ipykernel_45291/263429702.py:3: SettingWithCopyWarning: \n",
      "A value is trying to be set on a copy of a slice from a DataFrame.\n",
      "Try using .loc[row_indexer,col_indexer] = value instead\n",
      "\n",
      "See the caveats in the documentation: https://pandas.pydata.org/pandas-docs/stable/user_guide/indexing.html#returning-a-view-versus-a-copy\n",
      "  df['Close'] = scaler.fit_transform(df[['Close']])\n"
     ]
    }
   ],
   "source": [
    "df = df[['Date', 'Close']]\n",
    "scaler = MinMaxScaler()\n",
    "df['Close'] = scaler.fit_transform(df[['Close']])"
   ]
  },
  {
   "cell_type": "code",
   "execution_count": 6,
   "metadata": {},
   "outputs": [
    {
     "data": {
      "text/html": [
       "<div>\n",
       "<style scoped>\n",
       "    .dataframe tbody tr th:only-of-type {\n",
       "        vertical-align: middle;\n",
       "    }\n",
       "\n",
       "    .dataframe tbody tr th {\n",
       "        vertical-align: top;\n",
       "    }\n",
       "\n",
       "    .dataframe thead th {\n",
       "        text-align: right;\n",
       "    }\n",
       "</style>\n",
       "<table border=\"1\" class=\"dataframe\">\n",
       "  <thead>\n",
       "    <tr style=\"text-align: right;\">\n",
       "      <th></th>\n",
       "      <th>Date</th>\n",
       "      <th>Close</th>\n",
       "    </tr>\n",
       "  </thead>\n",
       "  <tbody>\n",
       "    <tr>\n",
       "      <th>0</th>\n",
       "      <td>2017-11-09</td>\n",
       "      <td>0.050040</td>\n",
       "    </tr>\n",
       "    <tr>\n",
       "      <th>1</th>\n",
       "      <td>2017-11-10</td>\n",
       "      <td>0.045464</td>\n",
       "    </tr>\n",
       "    <tr>\n",
       "      <th>2</th>\n",
       "      <td>2017-11-11</td>\n",
       "      <td>0.048727</td>\n",
       "    </tr>\n",
       "    <tr>\n",
       "      <th>3</th>\n",
       "      <td>2017-11-12</td>\n",
       "      <td>0.047295</td>\n",
       "    </tr>\n",
       "    <tr>\n",
       "      <th>4</th>\n",
       "      <td>2017-11-13</td>\n",
       "      <td>0.049158</td>\n",
       "    </tr>\n",
       "    <tr>\n",
       "      <th>...</th>\n",
       "      <td>...</td>\n",
       "      <td>...</td>\n",
       "    </tr>\n",
       "    <tr>\n",
       "      <th>1660</th>\n",
       "      <td>2022-05-27</td>\n",
       "      <td>0.347016</td>\n",
       "    </tr>\n",
       "    <tr>\n",
       "      <th>1661</th>\n",
       "      <td>2022-05-28</td>\n",
       "      <td>0.354000</td>\n",
       "    </tr>\n",
       "    <tr>\n",
       "      <th>1662</th>\n",
       "      <td>2022-05-29</td>\n",
       "      <td>0.365441</td>\n",
       "    </tr>\n",
       "    <tr>\n",
       "      <th>1663</th>\n",
       "      <td>2022-05-30</td>\n",
       "      <td>0.404446</td>\n",
       "    </tr>\n",
       "    <tr>\n",
       "      <th>1664</th>\n",
       "      <td>2022-05-31</td>\n",
       "      <td>0.393001</td>\n",
       "    </tr>\n",
       "  </tbody>\n",
       "</table>\n",
       "<p>1665 rows × 2 columns</p>\n",
       "</div>"
      ],
      "text/plain": [
       "            Date     Close\n",
       "0     2017-11-09  0.050040\n",
       "1     2017-11-10  0.045464\n",
       "2     2017-11-11  0.048727\n",
       "3     2017-11-12  0.047295\n",
       "4     2017-11-13  0.049158\n",
       "...          ...       ...\n",
       "1660  2022-05-27  0.347016\n",
       "1661  2022-05-28  0.354000\n",
       "1662  2022-05-29  0.365441\n",
       "1663  2022-05-30  0.404446\n",
       "1664  2022-05-31  0.393001\n",
       "\n",
       "[1665 rows x 2 columns]"
      ]
     },
     "execution_count": 6,
     "metadata": {},
     "output_type": "execute_result"
    }
   ],
   "source": [
    "df"
   ]
  },
  {
   "cell_type": "code",
   "execution_count": 7,
   "metadata": {},
   "outputs": [],
   "source": [
    "lstm_1 = load_model('Models/lstm_1.h5')\n",
    "lstm_3 = load_model('Models/lstm_3.h5')\n",
    "lstm_7 = load_model('Models/lstm_7.h5')\n",
    "lstm_15 = load_model('Models/lstm_15.h5')\n",
    "lstm_30 = load_model('Models/lstm_30.h5')\n",
    "lstm_60 = load_model('Models/lstm_60.h5')\n",
    "\n",
    "gru_1 = load_model('Models/gru_1.h5')\n",
    "gru_3 = load_model('Models/gru_3.h5')\n",
    "gru_7 = load_model('Models/gru_7.h5')\n",
    "gru_15 = load_model('Models/gru_15.h5')\n",
    "gru_30 = load_model('Models/gru_30.h5')\n",
    "gru_60 = load_model('Models/gru_60.h5')"
   ]
  },
  {
   "cell_type": "code",
   "execution_count": 8,
   "metadata": {},
   "outputs": [],
   "source": [
    "# creating a look back window of 60 days \n",
    "X, y = create_look_back_arrays(df, 60)"
   ]
  },
  {
   "cell_type": "code",
   "execution_count": 9,
   "metadata": {},
   "outputs": [
    {
     "data": {
      "text/plain": [
       "((1605, 60, 1), (1605, 1))"
      ]
     },
     "execution_count": 9,
     "metadata": {},
     "output_type": "execute_result"
    }
   ],
   "source": [
    "X.shape, y.shape"
   ]
  },
  {
   "cell_type": "code",
   "execution_count": 10,
   "metadata": {},
   "outputs": [],
   "source": [
    "lstm_1_predictions = []\n",
    "lstm_3_predictions = []\n",
    "lstm_7_predictions = []\n",
    "lstm_15_predictions = []\n",
    "lstm_30_predictions = []\n",
    "lstm_60_predictions = []\n",
    "\n",
    "gru_1_predictions = []\n",
    "gru_3_predictions = []\n",
    "gru_7_predictions = []\n",
    "gru_15_predictions = []\n",
    "gru_30_predictions = []\n",
    "gru_60_predictions = []"
   ]
  },
  {
   "cell_type": "code",
   "execution_count": 11,
   "metadata": {},
   "outputs": [
    {
     "data": {
      "text/plain": [
       "(1605, 60, 1)"
      ]
     },
     "execution_count": 11,
     "metadata": {},
     "output_type": "execute_result"
    }
   ],
   "source": [
    "X.shape"
   ]
  },
  {
   "cell_type": "code",
   "execution_count": 12,
   "metadata": {},
   "outputs": [
    {
     "data": {
      "text/plain": [
       "(array([[0.0500395 ],\n",
       "        [0.0454642 ],\n",
       "        [0.04872747],\n",
       "        [0.04729487],\n",
       "        [0.0491579 ],\n",
       "        [0.05358176],\n",
       "        [0.05267774],\n",
       "        [0.05216312],\n",
       "        [0.05247405],\n",
       "        [0.05569289],\n",
       "        [0.0571257 ],\n",
       "        [0.05973666],\n",
       "        [0.05839797],\n",
       "        [0.06268138],\n",
       "        [0.06892405],\n",
       "        [0.08261865],\n",
       "        [0.08079221],\n",
       "        [0.0818612 ],\n",
       "        [0.08377014],\n",
       "        [0.08219371],\n",
       "        [0.07259534],\n",
       "        [0.07673914],\n",
       "        [0.08084805],\n",
       "        [0.08019425],\n",
       "        [0.08070273],\n",
       "        [0.08162304],\n",
       "        [0.08015872],\n",
       "        [0.0728206 ],\n",
       "        [0.07405162],\n",
       "        [0.07862523],\n",
       "        [0.08232062],\n",
       "        [0.07559844],\n",
       "        [0.09112687],\n",
       "        [0.11995542],\n",
       "        [0.1308138 ],\n",
       "        [0.12934354],\n",
       "        [0.12693903],\n",
       "        [0.12942667],\n",
       "        [0.13445355],\n",
       "        [0.15024744],\n",
       "        [0.15705359],\n",
       "        [0.1554171 ],\n",
       "        [0.15583526],\n",
       "        [0.12491102],\n",
       "        [0.13432919],\n",
       "        [0.12899074],\n",
       "        [0.14415345],\n",
       "        [0.14584601],\n",
       "        [0.1435206 ],\n",
       "        [0.13805948],\n",
       "        [0.14156408],\n",
       "        [0.13387866],\n",
       "        [0.14222845],\n",
       "        [0.14559324],\n",
       "        [0.16924134],\n",
       "        [0.18579795],\n",
       "        [0.18964797],\n",
       "        [0.193201  ],\n",
       "        [0.20249926],\n",
       "        [0.22608115]]),\n",
       " array([0.22509972]))"
      ]
     },
     "execution_count": 12,
     "metadata": {},
     "output_type": "execute_result"
    }
   ],
   "source": [
    "X[0], y[0]"
   ]
  },
  {
   "cell_type": "code",
   "execution_count": 13,
   "metadata": {},
   "outputs": [
    {
     "data": {
      "text/plain": [
       "array([[0.22608115]])"
      ]
     },
     "execution_count": 13,
     "metadata": {},
     "output_type": "execute_result"
    }
   ],
   "source": [
    "X[0][-1].reshape(1, 1)"
   ]
  },
  {
   "cell_type": "code",
   "execution_count": 14,
   "metadata": {},
   "outputs": [
    {
     "name": "stdout",
     "output_type": "stream",
     "text": [
      "1/1 [==============================] - 0s 218ms/step\n"
     ]
    },
    {
     "data": {
      "text/plain": [
       "(array([[0.22602622]], dtype=float32), array([0.22509972]))"
      ]
     },
     "execution_count": 14,
     "metadata": {},
     "output_type": "execute_result"
    }
   ],
   "source": [
    "lstm_1.predict(X[0][-1].reshape(1, 1, 1)), y[0]"
   ]
  },
  {
   "cell_type": "code",
   "execution_count": 15,
   "metadata": {},
   "outputs": [
    {
     "name": "stdout",
     "output_type": "stream",
     "text": [
      "1/1 [==============================] - 0s 9ms/step\n"
     ]
    },
    {
     "data": {
      "text/plain": [
       "array([[1152.9103]], dtype=float32)"
      ]
     },
     "execution_count": 15,
     "metadata": {},
     "output_type": "execute_result"
    }
   ],
   "source": [
    "scaler.inverse_transform(lstm_1.predict(X[0][-1].reshape(1, 1, 1)))"
   ]
  },
  {
   "cell_type": "code",
   "execution_count": 16,
   "metadata": {},
   "outputs": [
    {
     "data": {
      "text/plain": [
       "array([[1148.5300293]])"
      ]
     },
     "execution_count": 16,
     "metadata": {},
     "output_type": "execute_result"
    }
   ],
   "source": [
    "scaler.inverse_transform(y[0].reshape(1, 1))"
   ]
  },
  {
   "cell_type": "code",
   "execution_count": 17,
   "metadata": {},
   "outputs": [
    {
     "data": {
      "text/plain": [
       "(array([[0.0500395 ],\n",
       "        [0.0454642 ],\n",
       "        [0.04872747],\n",
       "        [0.04729487],\n",
       "        [0.0491579 ],\n",
       "        [0.05358176],\n",
       "        [0.05267774],\n",
       "        [0.05216312],\n",
       "        [0.05247405],\n",
       "        [0.05569289],\n",
       "        [0.0571257 ],\n",
       "        [0.05973666],\n",
       "        [0.05839797],\n",
       "        [0.06268138],\n",
       "        [0.06892405],\n",
       "        [0.08261865],\n",
       "        [0.08079221],\n",
       "        [0.0818612 ],\n",
       "        [0.08377014],\n",
       "        [0.08219371],\n",
       "        [0.07259534],\n",
       "        [0.07673914],\n",
       "        [0.08084805],\n",
       "        [0.08019425],\n",
       "        [0.08070273],\n",
       "        [0.08162304],\n",
       "        [0.08015872],\n",
       "        [0.0728206 ],\n",
       "        [0.07405162],\n",
       "        [0.07862523],\n",
       "        [0.08232062],\n",
       "        [0.07559844],\n",
       "        [0.09112687],\n",
       "        [0.11995542],\n",
       "        [0.1308138 ],\n",
       "        [0.12934354],\n",
       "        [0.12693903],\n",
       "        [0.12942667],\n",
       "        [0.13445355],\n",
       "        [0.15024744],\n",
       "        [0.15705359],\n",
       "        [0.1554171 ],\n",
       "        [0.15583526],\n",
       "        [0.12491102],\n",
       "        [0.13432919],\n",
       "        [0.12899074],\n",
       "        [0.14415345],\n",
       "        [0.14584601],\n",
       "        [0.1435206 ],\n",
       "        [0.13805948],\n",
       "        [0.14156408],\n",
       "        [0.13387866],\n",
       "        [0.14222845],\n",
       "        [0.14559324],\n",
       "        [0.16924134],\n",
       "        [0.18579795],\n",
       "        [0.18964797],\n",
       "        [0.193201  ],\n",
       "        [0.20249926],\n",
       "        [0.22608115]]),\n",
       " array([[[0.193201  ],\n",
       "         [0.20249926],\n",
       "         [0.22608115]]]))"
      ]
     },
     "execution_count": 17,
     "metadata": {},
     "output_type": "execute_result"
    }
   ],
   "source": [
    "X[0], X[0, -3:, -1].reshape(-1, 3, 1)"
   ]
  },
  {
   "cell_type": "code",
   "execution_count": 18,
   "metadata": {},
   "outputs": [],
   "source": [
    "# Creating the list of X for each model.\n",
    "# Since all the models predict the next day's closing price and have differnet look back windows,\n",
    "# we'll use the 60 day look back window and extract the look back window for each model\n",
    "# For example, in the 60 day look back window, if we want to use the 3 day model, we'll use the last 3 days\n",
    "\n",
    "# Extracting the different look back windows for each model\n",
    "one_day_window = X[:, -1, -1].reshape(-1, 1, 1)\n",
    "three_day_window = X[:, -3:, -1].reshape(-1, 3, 1)\n",
    "seven_day_window = X[:, -7:, -1].reshape(-1, 7, 1)\n",
    "fifteen_day_window = X[:, -15:, -1].reshape(-1, 15, 1)\n",
    "thirty_day_window = X[:, -30:, -1].reshape(-1, 30, 1)\n",
    "sixty_day_window = X[:, :, -1].reshape(-1, 60, 1)"
   ]
  },
  {
   "cell_type": "code",
   "execution_count": 19,
   "metadata": {},
   "outputs": [
    {
     "name": "stdout",
     "output_type": "stream",
     "text": [
      "51/51 [==============================] - 0s 365us/step\n",
      "51/51 [==============================] - 0s 534us/step\n",
      "51/51 [==============================] - 0s 645us/step\n",
      "51/51 [==============================] - 0s 923us/step\n",
      "51/51 [==============================] - 0s 2ms/step\n",
      "51/51 [==============================] - 0s 3ms/step\n",
      "51/51 [==============================] - 0s 466us/step\n",
      "51/51 [==============================] - 0s 531us/step\n",
      "51/51 [==============================] - 0s 664us/step\n",
      "51/51 [==============================] - 0s 1ms/step\n",
      "51/51 [==============================] - 0s 3ms/step\n",
      "51/51 [==============================] - 0s 2ms/step\n"
     ]
    }
   ],
   "source": [
    "# Predict the prices through the model now\n",
    "lstm_1_predictions = scaler.inverse_transform(lstm_1.predict(one_day_window))\n",
    "lstm_3_predictions = scaler.inverse_transform(lstm_3.predict(three_day_window))\n",
    "lstm_7_predictions = scaler.inverse_transform(lstm_7.predict(seven_day_window))\n",
    "lstm_15_predictions = scaler.inverse_transform(lstm_15.predict(fifteen_day_window))\n",
    "lstm_30_predictions = scaler.inverse_transform(lstm_30.predict(thirty_day_window))\n",
    "lstm_60_predictions = scaler.inverse_transform(lstm_60.predict(sixty_day_window))\n",
    "\n",
    "gru_1_predictions = scaler.inverse_transform(gru_1.predict(one_day_window))\n",
    "gru_3_predictions = scaler.inverse_transform(gru_3.predict(three_day_window))\n",
    "gru_7_predictions = scaler.inverse_transform(gru_7.predict(seven_day_window))\n",
    "gru_15_predictions = scaler.inverse_transform(gru_15.predict(fifteen_day_window))\n",
    "gru_30_predictions = scaler.inverse_transform(gru_30.predict(thirty_day_window))\n",
    "gru_60_predictions = scaler.inverse_transform(gru_60.predict(sixty_day_window))"
   ]
  },
  {
   "cell_type": "code",
   "execution_count": 20,
   "metadata": {},
   "outputs": [
    {
     "data": {
      "text/plain": [
       "((1605, 1), (1605, 1), (1605, 1), (1605, 1), (1605, 1), (1605, 1))"
      ]
     },
     "execution_count": 20,
     "metadata": {},
     "output_type": "execute_result"
    }
   ],
   "source": [
    "lstm_1_predictions.shape, lstm_3_predictions.shape, lstm_7_predictions.shape, lstm_15_predictions.shape, lstm_30_predictions.shape, lstm_60_predictions.shape"
   ]
  },
  {
   "cell_type": "code",
   "execution_count": 21,
   "metadata": {},
   "outputs": [
    {
     "data": {
      "text/plain": [
       "((1605, 1), (1605, 1), (1605, 1), (1605, 1), (1605, 1), (1605, 1))"
      ]
     },
     "execution_count": 21,
     "metadata": {},
     "output_type": "execute_result"
    }
   ],
   "source": [
    "gru_1_predictions.shape, gru_3_predictions.shape, gru_7_predictions.shape, gru_15_predictions.shape, gru_30_predictions.shape, gru_60_predictions.shape"
   ]
  },
  {
   "cell_type": "code",
   "execution_count": 22,
   "metadata": {},
   "outputs": [
    {
     "data": {
      "text/plain": [
       "(1605, 1)"
      ]
     },
     "execution_count": 22,
     "metadata": {},
     "output_type": "execute_result"
    }
   ],
   "source": [
    "y.shape"
   ]
  },
  {
   "cell_type": "code",
   "execution_count": 23,
   "metadata": {},
   "outputs": [],
   "source": [
    "# Creating a dataframe with all the predictions and the actual values\n",
    "predictions_df = pd.DataFrame({'Actual': scaler.inverse_transform(y.reshape(-1, 1)).reshape(-1), \n",
    "                               'LSTM_1': lstm_1_predictions.reshape(-1), \n",
    "                               'LSTM_3': lstm_3_predictions.reshape(-1),\n",
    "                               'LSTM_7': lstm_7_predictions.reshape(-1),\n",
    "                               'LSTM_15': lstm_15_predictions.reshape(-1),\n",
    "                               'LSTM_30': lstm_30_predictions.reshape(-1),\n",
    "                               'LSTM_60': lstm_60_predictions.reshape(-1),\n",
    "                               'GRU_1': gru_1_predictions.reshape(-1),\n",
    "                               'GRU_3': gru_3_predictions.reshape(-1),\n",
    "                               'GRU_7': gru_7_predictions.reshape(-1),\n",
    "                               'GRU_15': gru_15_predictions.reshape(-1),\n",
    "                               'GRU_30': gru_30_predictions.reshape(-1),\n",
    "                               'GRU_60': gru_60_predictions.reshape(-1)}, index = df['Date'][60:])"
   ]
  },
  {
   "cell_type": "code",
   "execution_count": 24,
   "metadata": {},
   "outputs": [
    {
     "data": {
      "text/html": [
       "<div>\n",
       "<style scoped>\n",
       "    .dataframe tbody tr th:only-of-type {\n",
       "        vertical-align: middle;\n",
       "    }\n",
       "\n",
       "    .dataframe tbody tr th {\n",
       "        vertical-align: top;\n",
       "    }\n",
       "\n",
       "    .dataframe thead th {\n",
       "        text-align: right;\n",
       "    }\n",
       "</style>\n",
       "<table border=\"1\" class=\"dataframe\">\n",
       "  <thead>\n",
       "    <tr style=\"text-align: right;\">\n",
       "      <th></th>\n",
       "      <th>Actual</th>\n",
       "      <th>LSTM_1</th>\n",
       "      <th>LSTM_3</th>\n",
       "      <th>LSTM_7</th>\n",
       "      <th>LSTM_15</th>\n",
       "      <th>LSTM_30</th>\n",
       "      <th>LSTM_60</th>\n",
       "      <th>GRU_1</th>\n",
       "      <th>GRU_3</th>\n",
       "      <th>GRU_7</th>\n",
       "      <th>GRU_15</th>\n",
       "      <th>GRU_30</th>\n",
       "      <th>GRU_60</th>\n",
       "    </tr>\n",
       "    <tr>\n",
       "      <th>Date</th>\n",
       "      <th></th>\n",
       "      <th></th>\n",
       "      <th></th>\n",
       "      <th></th>\n",
       "      <th></th>\n",
       "      <th></th>\n",
       "      <th></th>\n",
       "      <th></th>\n",
       "      <th></th>\n",
       "      <th></th>\n",
       "      <th></th>\n",
       "      <th></th>\n",
       "      <th></th>\n",
       "    </tr>\n",
       "  </thead>\n",
       "  <tbody>\n",
       "    <tr>\n",
       "      <th>2018-01-08</th>\n",
       "      <td>1148.530029</td>\n",
       "      <td>1152.910278</td>\n",
       "      <td>1095.450317</td>\n",
       "      <td>1070.382812</td>\n",
       "      <td>1076.932373</td>\n",
       "      <td>1097.886475</td>\n",
       "      <td>768.600952</td>\n",
       "      <td>1156.603271</td>\n",
       "      <td>1105.441040</td>\n",
       "      <td>1120.444092</td>\n",
       "      <td>1150.889893</td>\n",
       "      <td>1117.988647</td>\n",
       "      <td>1158.431519</td>\n",
       "    </tr>\n",
       "    <tr>\n",
       "      <th>2018-01-09</th>\n",
       "      <td>1299.739990</td>\n",
       "      <td>1148.181030</td>\n",
       "      <td>1143.450317</td>\n",
       "      <td>1116.123047</td>\n",
       "      <td>1125.222656</td>\n",
       "      <td>1148.505981</td>\n",
       "      <td>789.842529</td>\n",
       "      <td>1151.894775</td>\n",
       "      <td>1141.408325</td>\n",
       "      <td>1158.696289</td>\n",
       "      <td>1182.541748</td>\n",
       "      <td>1156.841797</td>\n",
       "      <td>1194.267700</td>\n",
       "    </tr>\n",
       "    <tr>\n",
       "      <th>2018-01-10</th>\n",
       "      <td>1255.819946</td>\n",
       "      <td>1302.730103</td>\n",
       "      <td>1234.103760</td>\n",
       "      <td>1186.953979</td>\n",
       "      <td>1203.992188</td>\n",
       "      <td>1210.067139</td>\n",
       "      <td>815.636902</td>\n",
       "      <td>1305.455444</td>\n",
       "      <td>1242.340942</td>\n",
       "      <td>1255.366699</td>\n",
       "      <td>1293.724609</td>\n",
       "      <td>1252.674927</td>\n",
       "      <td>1298.566162</td>\n",
       "    </tr>\n",
       "    <tr>\n",
       "      <th>2018-01-11</th>\n",
       "      <td>1154.930054</td>\n",
       "      <td>1257.749146</td>\n",
       "      <td>1266.927368</td>\n",
       "      <td>1235.364624</td>\n",
       "      <td>1251.677612</td>\n",
       "      <td>1247.015381</td>\n",
       "      <td>841.764771</td>\n",
       "      <td>1260.829102</td>\n",
       "      <td>1260.341064</td>\n",
       "      <td>1284.468140</td>\n",
       "      <td>1306.937256</td>\n",
       "      <td>1281.636353</td>\n",
       "      <td>1320.258057</td>\n",
       "    </tr>\n",
       "    <tr>\n",
       "      <th>2018-01-12</th>\n",
       "      <td>1273.199951</td>\n",
       "      <td>1154.704224</td>\n",
       "      <td>1247.973389</td>\n",
       "      <td>1244.297974</td>\n",
       "      <td>1254.878662</td>\n",
       "      <td>1258.786499</td>\n",
       "      <td>866.299866</td>\n",
       "      <td>1158.389648</td>\n",
       "      <td>1211.003052</td>\n",
       "      <td>1238.845947</td>\n",
       "      <td>1235.789795</td>\n",
       "      <td>1238.760254</td>\n",
       "      <td>1260.325317</td>\n",
       "    </tr>\n",
       "    <tr>\n",
       "      <th>...</th>\n",
       "      <td>...</td>\n",
       "      <td>...</td>\n",
       "      <td>...</td>\n",
       "      <td>...</td>\n",
       "      <td>...</td>\n",
       "      <td>...</td>\n",
       "      <td>...</td>\n",
       "      <td>...</td>\n",
       "      <td>...</td>\n",
       "      <td>...</td>\n",
       "      <td>...</td>\n",
       "      <td>...</td>\n",
       "      <td>...</td>\n",
       "    </tr>\n",
       "    <tr>\n",
       "      <th>2022-05-27</th>\n",
       "      <td>1724.922852</td>\n",
       "      <td>1824.268677</td>\n",
       "      <td>1935.028076</td>\n",
       "      <td>1980.955322</td>\n",
       "      <td>2004.271484</td>\n",
       "      <td>2050.084229</td>\n",
       "      <td>2101.181396</td>\n",
       "      <td>1818.984009</td>\n",
       "      <td>1876.493896</td>\n",
       "      <td>1907.144165</td>\n",
       "      <td>1881.369507</td>\n",
       "      <td>1905.460205</td>\n",
       "      <td>1897.417725</td>\n",
       "    </tr>\n",
       "    <tr>\n",
       "      <th>2022-05-28</th>\n",
       "      <td>1757.941772</td>\n",
       "      <td>1741.940552</td>\n",
       "      <td>1844.042725</td>\n",
       "      <td>1916.342285</td>\n",
       "      <td>1933.552979</td>\n",
       "      <td>1961.344238</td>\n",
       "      <td>2074.741211</td>\n",
       "      <td>1738.387573</td>\n",
       "      <td>1785.824463</td>\n",
       "      <td>1813.917114</td>\n",
       "      <td>1783.245850</td>\n",
       "      <td>1813.792847</td>\n",
       "      <td>1798.437134</td>\n",
       "    </tr>\n",
       "    <tr>\n",
       "      <th>2022-05-29</th>\n",
       "      <td>1812.031006</td>\n",
       "      <td>1776.327515</td>\n",
       "      <td>1795.033569</td>\n",
       "      <td>1869.726929</td>\n",
       "      <td>1890.606934</td>\n",
       "      <td>1914.770752</td>\n",
       "      <td>2050.200439</td>\n",
       "      <td>1772.072388</td>\n",
       "      <td>1763.247681</td>\n",
       "      <td>1788.994507</td>\n",
       "      <td>1777.012939</td>\n",
       "      <td>1786.788696</td>\n",
       "      <td>1779.755127</td>\n",
       "    </tr>\n",
       "    <tr>\n",
       "      <th>2022-05-30</th>\n",
       "      <td>1996.441284</td>\n",
       "      <td>1832.742065</td>\n",
       "      <td>1809.418091</td>\n",
       "      <td>1851.922607</td>\n",
       "      <td>1879.083130</td>\n",
       "      <td>1909.647339</td>\n",
       "      <td>2028.259399</td>\n",
       "      <td>1827.269409</td>\n",
       "      <td>1793.247437</td>\n",
       "      <td>1815.798828</td>\n",
       "      <td>1821.805908</td>\n",
       "      <td>1808.641479</td>\n",
       "      <td>1815.525513</td>\n",
       "    </tr>\n",
       "    <tr>\n",
       "      <th>2022-05-31</th>\n",
       "      <td>1942.328003</td>\n",
       "      <td>2025.861816</td>\n",
       "      <td>1914.974121</td>\n",
       "      <td>1893.477539</td>\n",
       "      <td>1935.344116</td>\n",
       "      <td>1988.946167</td>\n",
       "      <td>2012.527100</td>\n",
       "      <td>2015.620117</td>\n",
       "      <td>1920.335571</td>\n",
       "      <td>1938.925781</td>\n",
       "      <td>1976.668213</td>\n",
       "      <td>1927.067017</td>\n",
       "      <td>1958.701294</td>\n",
       "    </tr>\n",
       "  </tbody>\n",
       "</table>\n",
       "<p>1605 rows × 13 columns</p>\n",
       "</div>"
      ],
      "text/plain": [
       "                 Actual       LSTM_1       LSTM_3       LSTM_7      LSTM_15  \\\n",
       "Date                                                                          \n",
       "2018-01-08  1148.530029  1152.910278  1095.450317  1070.382812  1076.932373   \n",
       "2018-01-09  1299.739990  1148.181030  1143.450317  1116.123047  1125.222656   \n",
       "2018-01-10  1255.819946  1302.730103  1234.103760  1186.953979  1203.992188   \n",
       "2018-01-11  1154.930054  1257.749146  1266.927368  1235.364624  1251.677612   \n",
       "2018-01-12  1273.199951  1154.704224  1247.973389  1244.297974  1254.878662   \n",
       "...                 ...          ...          ...          ...          ...   \n",
       "2022-05-27  1724.922852  1824.268677  1935.028076  1980.955322  2004.271484   \n",
       "2022-05-28  1757.941772  1741.940552  1844.042725  1916.342285  1933.552979   \n",
       "2022-05-29  1812.031006  1776.327515  1795.033569  1869.726929  1890.606934   \n",
       "2022-05-30  1996.441284  1832.742065  1809.418091  1851.922607  1879.083130   \n",
       "2022-05-31  1942.328003  2025.861816  1914.974121  1893.477539  1935.344116   \n",
       "\n",
       "                LSTM_30      LSTM_60        GRU_1        GRU_3        GRU_7  \\\n",
       "Date                                                                          \n",
       "2018-01-08  1097.886475   768.600952  1156.603271  1105.441040  1120.444092   \n",
       "2018-01-09  1148.505981   789.842529  1151.894775  1141.408325  1158.696289   \n",
       "2018-01-10  1210.067139   815.636902  1305.455444  1242.340942  1255.366699   \n",
       "2018-01-11  1247.015381   841.764771  1260.829102  1260.341064  1284.468140   \n",
       "2018-01-12  1258.786499   866.299866  1158.389648  1211.003052  1238.845947   \n",
       "...                 ...          ...          ...          ...          ...   \n",
       "2022-05-27  2050.084229  2101.181396  1818.984009  1876.493896  1907.144165   \n",
       "2022-05-28  1961.344238  2074.741211  1738.387573  1785.824463  1813.917114   \n",
       "2022-05-29  1914.770752  2050.200439  1772.072388  1763.247681  1788.994507   \n",
       "2022-05-30  1909.647339  2028.259399  1827.269409  1793.247437  1815.798828   \n",
       "2022-05-31  1988.946167  2012.527100  2015.620117  1920.335571  1938.925781   \n",
       "\n",
       "                 GRU_15       GRU_30       GRU_60  \n",
       "Date                                               \n",
       "2018-01-08  1150.889893  1117.988647  1158.431519  \n",
       "2018-01-09  1182.541748  1156.841797  1194.267700  \n",
       "2018-01-10  1293.724609  1252.674927  1298.566162  \n",
       "2018-01-11  1306.937256  1281.636353  1320.258057  \n",
       "2018-01-12  1235.789795  1238.760254  1260.325317  \n",
       "...                 ...          ...          ...  \n",
       "2022-05-27  1881.369507  1905.460205  1897.417725  \n",
       "2022-05-28  1783.245850  1813.792847  1798.437134  \n",
       "2022-05-29  1777.012939  1786.788696  1779.755127  \n",
       "2022-05-30  1821.805908  1808.641479  1815.525513  \n",
       "2022-05-31  1976.668213  1927.067017  1958.701294  \n",
       "\n",
       "[1605 rows x 13 columns]"
      ]
     },
     "execution_count": 24,
     "metadata": {},
     "output_type": "execute_result"
    }
   ],
   "source": [
    "predictions_df"
   ]
  },
  {
   "attachments": {},
   "cell_type": "markdown",
   "metadata": {},
   "source": [
    "# LSTM Meta Model"
   ]
  },
  {
   "cell_type": "code",
   "execution_count": 25,
   "metadata": {},
   "outputs": [],
   "source": [
    "scaler = MinMaxScaler()\n",
    "predictions_df['Actual'] = scaler.fit_transform(predictions_df[['Actual']])\n",
    "predictions_df['LSTM_1'] = scaler.fit_transform(predictions_df[['LSTM_1']])\n",
    "#predictions_df['LSTM_3'] = scaler.fit_transform(predictions_df[['LSTM_3']])\n",
    "#predictions_df['LSTM_7'] = scaler.fit_transform(predictions_df[['LSTM_7']])\n",
    "#predictions_df['LSTM_15'] = scaler.fit_transform(predictions_df[['LSTM_15']])\n",
    "#predictions_df['LSTM_30'] = scaler.fit_transform(predictions_df[['LSTM_30']])\n",
    "#predictions_df['LSTM_60'] = scaler.fit_transform(predictions_df[['LSTM_60']])\n",
    "#predictions_df['GRU_1'] = scaler.fit_transform(predictions_df[['GRU_1']])\n",
    "#predictions_df['GRU_3'] = scaler.fit_transform(predictions_df[['GRU_3']])\n",
    "#predictions_df['GRU_7'] = scaler.fit_transform(predictions_df[['GRU_7']])\n",
    "#predictions_df['GRU_15'] = scaler.fit_transform(predictions_df[['GRU_15']])\n",
    "#predictions_df['GRU_30'] = scaler.fit_transform(predictions_df[['GRU_30']])\n",
    "predictions_df['GRU_60'] = scaler.fit_transform(predictions_df[['GRU_60']])\n",
    "\n",
    "predictions_df = predictions_df[['Actual', 'LSTM_1', 'GRU_60']]"
   ]
  },
  {
   "cell_type": "code",
   "execution_count": 26,
   "metadata": {},
   "outputs": [
    {
     "data": {
      "text/html": [
       "<div>\n",
       "<style scoped>\n",
       "    .dataframe tbody tr th:only-of-type {\n",
       "        vertical-align: middle;\n",
       "    }\n",
       "\n",
       "    .dataframe tbody tr th {\n",
       "        vertical-align: top;\n",
       "    }\n",
       "\n",
       "    .dataframe thead th {\n",
       "        text-align: right;\n",
       "    }\n",
       "</style>\n",
       "<table border=\"1\" class=\"dataframe\">\n",
       "  <thead>\n",
       "    <tr style=\"text-align: right;\">\n",
       "      <th></th>\n",
       "      <th>Actual</th>\n",
       "      <th>LSTM_1</th>\n",
       "      <th>GRU_60</th>\n",
       "    </tr>\n",
       "    <tr>\n",
       "      <th>Date</th>\n",
       "      <th></th>\n",
       "      <th></th>\n",
       "      <th></th>\n",
       "    </tr>\n",
       "  </thead>\n",
       "  <tbody>\n",
       "    <tr>\n",
       "      <th>2018-01-08</th>\n",
       "      <td>0.225100</td>\n",
       "      <td>0.241420</td>\n",
       "      <td>0.231424</td>\n",
       "    </tr>\n",
       "    <tr>\n",
       "      <th>2018-01-09</th>\n",
       "      <td>0.257083</td>\n",
       "      <td>0.240349</td>\n",
       "      <td>0.239202</td>\n",
       "    </tr>\n",
       "    <tr>\n",
       "      <th>2018-01-10</th>\n",
       "      <td>0.247793</td>\n",
       "      <td>0.275341</td>\n",
       "      <td>0.261839</td>\n",
       "    </tr>\n",
       "    <tr>\n",
       "      <th>2018-01-11</th>\n",
       "      <td>0.226453</td>\n",
       "      <td>0.265157</td>\n",
       "      <td>0.266547</td>\n",
       "    </tr>\n",
       "    <tr>\n",
       "      <th>2018-01-12</th>\n",
       "      <td>0.251469</td>\n",
       "      <td>0.241826</td>\n",
       "      <td>0.253539</td>\n",
       "    </tr>\n",
       "    <tr>\n",
       "      <th>...</th>\n",
       "      <td>...</td>\n",
       "      <td>...</td>\n",
       "      <td>...</td>\n",
       "    </tr>\n",
       "    <tr>\n",
       "      <th>2022-05-27</th>\n",
       "      <td>0.347016</td>\n",
       "      <td>0.393424</td>\n",
       "      <td>0.391813</td>\n",
       "    </tr>\n",
       "    <tr>\n",
       "      <th>2022-05-28</th>\n",
       "      <td>0.354000</td>\n",
       "      <td>0.374784</td>\n",
       "      <td>0.370331</td>\n",
       "    </tr>\n",
       "    <tr>\n",
       "      <th>2022-05-29</th>\n",
       "      <td>0.365441</td>\n",
       "      <td>0.382570</td>\n",
       "      <td>0.366276</td>\n",
       "    </tr>\n",
       "    <tr>\n",
       "      <th>2022-05-30</th>\n",
       "      <td>0.404446</td>\n",
       "      <td>0.395343</td>\n",
       "      <td>0.374039</td>\n",
       "    </tr>\n",
       "    <tr>\n",
       "      <th>2022-05-31</th>\n",
       "      <td>0.393001</td>\n",
       "      <td>0.439068</td>\n",
       "      <td>0.405114</td>\n",
       "    </tr>\n",
       "  </tbody>\n",
       "</table>\n",
       "<p>1605 rows × 3 columns</p>\n",
       "</div>"
      ],
      "text/plain": [
       "              Actual    LSTM_1    GRU_60\n",
       "Date                                    \n",
       "2018-01-08  0.225100  0.241420  0.231424\n",
       "2018-01-09  0.257083  0.240349  0.239202\n",
       "2018-01-10  0.247793  0.275341  0.261839\n",
       "2018-01-11  0.226453  0.265157  0.266547\n",
       "2018-01-12  0.251469  0.241826  0.253539\n",
       "...              ...       ...       ...\n",
       "2022-05-27  0.347016  0.393424  0.391813\n",
       "2022-05-28  0.354000  0.374784  0.370331\n",
       "2022-05-29  0.365441  0.382570  0.366276\n",
       "2022-05-30  0.404446  0.395343  0.374039\n",
       "2022-05-31  0.393001  0.439068  0.405114\n",
       "\n",
       "[1605 rows x 3 columns]"
      ]
     },
     "execution_count": 26,
     "metadata": {},
     "output_type": "execute_result"
    }
   ],
   "source": [
    "predictions_df"
   ]
  },
  {
   "attachments": {},
   "cell_type": "markdown",
   "metadata": {},
   "source": [
    "Creating a LSTM meta model to predict the next day's closing price.\n",
    "The meta model will use the predictions of the other models as features"
   ]
  },
  {
   "cell_type": "code",
   "execution_count": 27,
   "metadata": {},
   "outputs": [],
   "source": [
    "meta_training_X =  predictions_df.iloc[:int(len(predictions_df) * 0.8)].drop(columns = ['Actual'])\n",
    "meta_training_y = predictions_df.iloc[:int(len(predictions_df) * 0.8)]['Actual']\n",
    "\n",
    "meta_validation_X = predictions_df.iloc[int(len(predictions_df) * 0.8):int(len(predictions_df) * 0.9)].drop(columns = ['Actual'])\n",
    "meta_validation_y = predictions_df.iloc[int(len(predictions_df) * 0.8):int(len(predictions_df) * 0.9)]['Actual']\n",
    "\n",
    "meta_testing_X = predictions_df.iloc[int(len(predictions_df) * 0.9):].drop(columns = ['Actual'])\n",
    "meta_testing_y = predictions_df.iloc[int(len(predictions_df) * 0.9):]['Actual']"
   ]
  },
  {
   "cell_type": "code",
   "execution_count": 28,
   "metadata": {},
   "outputs": [
    {
     "data": {
      "text/plain": [
       "((1284, 2), (1284,), (160, 2), (160,), (161, 2), (161,))"
      ]
     },
     "execution_count": 28,
     "metadata": {},
     "output_type": "execute_result"
    }
   ],
   "source": [
    "meta_training_X.shape, meta_training_y.shape, meta_validation_X.shape, meta_validation_y.shape, meta_testing_X.shape, meta_testing_y.shape"
   ]
  },
  {
   "cell_type": "code",
   "execution_count": 29,
   "metadata": {},
   "outputs": [
    {
     "data": {
      "text/html": [
       "<div>\n",
       "<style scoped>\n",
       "    .dataframe tbody tr th:only-of-type {\n",
       "        vertical-align: middle;\n",
       "    }\n",
       "\n",
       "    .dataframe tbody tr th {\n",
       "        vertical-align: top;\n",
       "    }\n",
       "\n",
       "    .dataframe thead th {\n",
       "        text-align: right;\n",
       "    }\n",
       "</style>\n",
       "<table border=\"1\" class=\"dataframe\">\n",
       "  <thead>\n",
       "    <tr style=\"text-align: right;\">\n",
       "      <th></th>\n",
       "      <th>LSTM_1</th>\n",
       "      <th>GRU_60</th>\n",
       "    </tr>\n",
       "    <tr>\n",
       "      <th>Date</th>\n",
       "      <th></th>\n",
       "      <th></th>\n",
       "    </tr>\n",
       "  </thead>\n",
       "  <tbody>\n",
       "    <tr>\n",
       "      <th>2018-01-08</th>\n",
       "      <td>0.241420</td>\n",
       "      <td>0.231424</td>\n",
       "    </tr>\n",
       "    <tr>\n",
       "      <th>2018-01-09</th>\n",
       "      <td>0.240349</td>\n",
       "      <td>0.239202</td>\n",
       "    </tr>\n",
       "    <tr>\n",
       "      <th>2018-01-10</th>\n",
       "      <td>0.275341</td>\n",
       "      <td>0.261839</td>\n",
       "    </tr>\n",
       "    <tr>\n",
       "      <th>2018-01-11</th>\n",
       "      <td>0.265157</td>\n",
       "      <td>0.266547</td>\n",
       "    </tr>\n",
       "    <tr>\n",
       "      <th>2018-01-12</th>\n",
       "      <td>0.241826</td>\n",
       "      <td>0.253539</td>\n",
       "    </tr>\n",
       "    <tr>\n",
       "      <th>...</th>\n",
       "      <td>...</td>\n",
       "      <td>...</td>\n",
       "    </tr>\n",
       "    <tr>\n",
       "      <th>2021-07-10</th>\n",
       "      <td>0.474891</td>\n",
       "      <td>0.456182</td>\n",
       "    </tr>\n",
       "    <tr>\n",
       "      <th>2021-07-11</th>\n",
       "      <td>0.466462</td>\n",
       "      <td>0.447932</td>\n",
       "    </tr>\n",
       "    <tr>\n",
       "      <th>2021-07-12</th>\n",
       "      <td>0.473212</td>\n",
       "      <td>0.449364</td>\n",
       "    </tr>\n",
       "    <tr>\n",
       "      <th>2021-07-13</th>\n",
       "      <td>0.448654</td>\n",
       "      <td>0.436350</td>\n",
       "    </tr>\n",
       "    <tr>\n",
       "      <th>2021-07-14</th>\n",
       "      <td>0.425676</td>\n",
       "      <td>0.416823</td>\n",
       "    </tr>\n",
       "  </tbody>\n",
       "</table>\n",
       "<p>1284 rows × 2 columns</p>\n",
       "</div>"
      ],
      "text/plain": [
       "              LSTM_1    GRU_60\n",
       "Date                          \n",
       "2018-01-08  0.241420  0.231424\n",
       "2018-01-09  0.240349  0.239202\n",
       "2018-01-10  0.275341  0.261839\n",
       "2018-01-11  0.265157  0.266547\n",
       "2018-01-12  0.241826  0.253539\n",
       "...              ...       ...\n",
       "2021-07-10  0.474891  0.456182\n",
       "2021-07-11  0.466462  0.447932\n",
       "2021-07-12  0.473212  0.449364\n",
       "2021-07-13  0.448654  0.436350\n",
       "2021-07-14  0.425676  0.416823\n",
       "\n",
       "[1284 rows x 2 columns]"
      ]
     },
     "execution_count": 29,
     "metadata": {},
     "output_type": "execute_result"
    }
   ],
   "source": [
    "meta_training_X"
   ]
  },
  {
   "cell_type": "code",
   "execution_count": 30,
   "metadata": {},
   "outputs": [
    {
     "data": {
      "text/plain": [
       "((1284, 2, 1), (160, 2, 1), (161, 2, 1))"
      ]
     },
     "execution_count": 30,
     "metadata": {},
     "output_type": "execute_result"
    }
   ],
   "source": [
    "# The entire row is the input for the meta model\n",
    "# reshape the input to be 3D [length, 12, 1]\n",
    "meta_training_X = meta_training_X.to_numpy().reshape(-1, 2, 1)\n",
    "meta_validation_X = meta_validation_X.to_numpy().reshape(-1, 2, 1)\n",
    "meta_testing_X = meta_testing_X.to_numpy().reshape(-1, 2, 1)\n",
    "\n",
    "meta_training_X.shape, meta_validation_X.shape, meta_testing_X.shape"
   ]
  },
  {
   "cell_type": "code",
   "execution_count": 31,
   "metadata": {},
   "outputs": [
    {
     "data": {
      "text/plain": [
       "array([[0.24141994],\n",
       "       [0.2314244 ]], dtype=float32)"
      ]
     },
     "execution_count": 31,
     "metadata": {},
     "output_type": "execute_result"
    }
   ],
   "source": [
    "meta_training_X[0]"
   ]
  },
  {
   "cell_type": "code",
   "execution_count": 32,
   "metadata": {},
   "outputs": [
    {
     "data": {
      "text/plain": [
       "((1284, 1), (160, 1), (161, 1))"
      ]
     },
     "execution_count": 32,
     "metadata": {},
     "output_type": "execute_result"
    }
   ],
   "source": [
    "meta_training_y = meta_training_y.to_numpy().reshape(-1, 1)\n",
    "meta_validation_y = meta_validation_y.to_numpy().reshape(-1, 1)\n",
    "meta_testing_y = meta_testing_y.to_numpy().reshape(-1, 1)\n",
    "\n",
    "meta_training_y.shape, meta_validation_y.shape, meta_testing_y.shape"
   ]
  },
  {
   "cell_type": "code",
   "execution_count": 33,
   "metadata": {},
   "outputs": [
    {
     "data": {
      "text/plain": [
       "array([0.22509972])"
      ]
     },
     "execution_count": 33,
     "metadata": {},
     "output_type": "execute_result"
    }
   ],
   "source": [
    "meta_training_y[0]"
   ]
  },
  {
   "cell_type": "code",
   "execution_count": 34,
   "metadata": {},
   "outputs": [
    {
     "name": "stdout",
     "output_type": "stream",
     "text": [
      "Model: \"sequential\"\n",
      "_________________________________________________________________\n",
      " Layer (type)                Output Shape              Param #   \n",
      "=================================================================\n",
      " lstm (LSTM)                 (None, 512)               1052672   \n",
      "                                                                 \n",
      " dense (Dense)               (None, 1)                 513       \n",
      "                                                                 \n",
      "=================================================================\n",
      "Total params: 1053185 (4.02 MB)\n",
      "Trainable params: 1053185 (4.02 MB)\n",
      "Non-trainable params: 0 (0.00 Byte)\n",
      "_________________________________________________________________\n"
     ]
    }
   ],
   "source": [
    "meta_model = Sequential()\n",
    "meta_model.add(InputLayer(input_shape = (2, 1)))\n",
    "meta_model.add(LSTM(512))\n",
    "meta_model.add(Dense(1, activation = 'linear'))\n",
    "\n",
    "meta_model.summary()"
   ]
  },
  {
   "cell_type": "code",
   "execution_count": 35,
   "metadata": {},
   "outputs": [
    {
     "name": "stderr",
     "output_type": "stream",
     "text": [
      "WARNING:absl:At this time, the v2.11+ optimizer `tf.keras.optimizers.Adam` runs slowly on M1/M2 Macs, please use the legacy Keras optimizer instead, located at `tf.keras.optimizers.legacy.Adam`.\n",
      "WARNING:absl:There is a known slowdown when using v2.11+ Keras optimizers on M1/M2 Macs. Falling back to the legacy Keras optimizer, i.e., `tf.keras.optimizers.legacy.Adam`.\n"
     ]
    }
   ],
   "source": [
    "cp = ModelCheckpoint('models/meta_model.h5', save_best_only = True)\n",
    "meta_model.compile(optimizer = Adam(learning_rate = 0.0001), loss = MeanSquaredError(), metrics = [RootMeanSquaredError(), MeanAbsoluteError()])"
   ]
  },
  {
   "cell_type": "code",
   "execution_count": 36,
   "metadata": {},
   "outputs": [
    {
     "name": "stdout",
     "output_type": "stream",
     "text": [
      "Epoch 1/100\n",
      "6/6 [==============================] - 1s 58ms/step - loss: 0.0314 - root_mean_squared_error: 0.1772 - mean_absolute_error: 0.1002 - val_loss: 0.5013 - val_root_mean_squared_error: 0.7080 - val_mean_absolute_error: 0.6921\n",
      "Epoch 2/100\n",
      "6/6 [==============================] - 0s 20ms/step - loss: 0.0283 - root_mean_squared_error: 0.1682 - mean_absolute_error: 0.0906 - val_loss: 0.4666 - val_root_mean_squared_error: 0.6831 - val_mean_absolute_error: 0.6674\n",
      "Epoch 3/100\n",
      "1/6 [====>.........................] - ETA: 0s - loss: 0.0339 - root_mean_squared_error: 0.1842 - mean_absolute_error: 0.0976"
     ]
    },
    {
     "name": "stderr",
     "output_type": "stream",
     "text": [
      "/opt/miniconda3/envs/eth/lib/python3.9/site-packages/keras/src/engine/training.py:3000: UserWarning: You are saving your model as an HDF5 file via `model.save()`. This file format is considered legacy. We recommend using instead the native Keras format, e.g. `model.save('my_model.keras')`.\n",
      "  saving_api.save_model(\n"
     ]
    },
    {
     "name": "stdout",
     "output_type": "stream",
     "text": [
      "6/6 [==============================] - 0s 22ms/step - loss: 0.0255 - root_mean_squared_error: 0.1598 - mean_absolute_error: 0.0830 - val_loss: 0.4318 - val_root_mean_squared_error: 0.6571 - val_mean_absolute_error: 0.6415\n",
      "Epoch 4/100\n",
      "6/6 [==============================] - 0s 22ms/step - loss: 0.0230 - root_mean_squared_error: 0.1517 - mean_absolute_error: 0.0779 - val_loss: 0.3989 - val_root_mean_squared_error: 0.6316 - val_mean_absolute_error: 0.6161\n",
      "Epoch 5/100\n",
      "6/6 [==============================] - 0s 22ms/step - loss: 0.0207 - root_mean_squared_error: 0.1438 - mean_absolute_error: 0.0750 - val_loss: 0.3661 - val_root_mean_squared_error: 0.6051 - val_mean_absolute_error: 0.5898\n",
      "Epoch 6/100\n",
      "6/6 [==============================] - 0s 23ms/step - loss: 0.0185 - root_mean_squared_error: 0.1359 - mean_absolute_error: 0.0733 - val_loss: 0.3357 - val_root_mean_squared_error: 0.5794 - val_mean_absolute_error: 0.5642\n",
      "Epoch 7/100\n",
      "6/6 [==============================] - 0s 23ms/step - loss: 0.0167 - root_mean_squared_error: 0.1294 - mean_absolute_error: 0.0726 - val_loss: 0.3087 - val_root_mean_squared_error: 0.5556 - val_mean_absolute_error: 0.5406\n",
      "Epoch 8/100\n",
      "6/6 [==============================] - 0s 27ms/step - loss: 0.0153 - root_mean_squared_error: 0.1236 - mean_absolute_error: 0.0723 - val_loss: 0.2852 - val_root_mean_squared_error: 0.5340 - val_mean_absolute_error: 0.5191\n",
      "Epoch 9/100\n",
      "6/6 [==============================] - 0s 27ms/step - loss: 0.0142 - root_mean_squared_error: 0.1190 - mean_absolute_error: 0.0726 - val_loss: 0.2661 - val_root_mean_squared_error: 0.5158 - val_mean_absolute_error: 0.5010\n",
      "Epoch 10/100\n",
      "6/6 [==============================] - 0s 27ms/step - loss: 0.0133 - root_mean_squared_error: 0.1154 - mean_absolute_error: 0.0731 - val_loss: 0.2499 - val_root_mean_squared_error: 0.4999 - val_mean_absolute_error: 0.4852\n",
      "Epoch 11/100\n",
      "6/6 [==============================] - 0s 29ms/step - loss: 0.0126 - root_mean_squared_error: 0.1124 - mean_absolute_error: 0.0733 - val_loss: 0.2359 - val_root_mean_squared_error: 0.4857 - val_mean_absolute_error: 0.4711\n",
      "Epoch 12/100\n",
      "6/6 [==============================] - 0s 29ms/step - loss: 0.0120 - root_mean_squared_error: 0.1095 - mean_absolute_error: 0.0731 - val_loss: 0.2236 - val_root_mean_squared_error: 0.4728 - val_mean_absolute_error: 0.4584\n",
      "Epoch 13/100\n",
      "6/6 [==============================] - 0s 49ms/step - loss: 0.0115 - root_mean_squared_error: 0.1071 - mean_absolute_error: 0.0728 - val_loss: 0.2115 - val_root_mean_squared_error: 0.4599 - val_mean_absolute_error: 0.4456\n",
      "Epoch 14/100\n",
      "6/6 [==============================] - 0s 30ms/step - loss: 0.0109 - root_mean_squared_error: 0.1046 - mean_absolute_error: 0.0723 - val_loss: 0.1997 - val_root_mean_squared_error: 0.4468 - val_mean_absolute_error: 0.4327\n",
      "Epoch 15/100\n",
      "6/6 [==============================] - 0s 29ms/step - loss: 0.0104 - root_mean_squared_error: 0.1019 - mean_absolute_error: 0.0719 - val_loss: 0.1854 - val_root_mean_squared_error: 0.4305 - val_mean_absolute_error: 0.4166\n",
      "Epoch 16/100\n",
      "6/6 [==============================] - 0s 26ms/step - loss: 0.0098 - root_mean_squared_error: 0.0991 - mean_absolute_error: 0.0719 - val_loss: 0.1707 - val_root_mean_squared_error: 0.4132 - val_mean_absolute_error: 0.3994\n",
      "Epoch 17/100\n",
      "6/6 [==============================] - 0s 23ms/step - loss: 0.0092 - root_mean_squared_error: 0.0961 - mean_absolute_error: 0.0717 - val_loss: 0.1573 - val_root_mean_squared_error: 0.3966 - val_mean_absolute_error: 0.3830\n",
      "Epoch 18/100\n",
      "6/6 [==============================] - 0s 26ms/step - loss: 0.0087 - root_mean_squared_error: 0.0933 - mean_absolute_error: 0.0710 - val_loss: 0.1469 - val_root_mean_squared_error: 0.3833 - val_mean_absolute_error: 0.3700\n",
      "Epoch 19/100\n",
      "6/6 [==============================] - 0s 27ms/step - loss: 0.0082 - root_mean_squared_error: 0.0906 - mean_absolute_error: 0.0692 - val_loss: 0.1392 - val_root_mean_squared_error: 0.3730 - val_mean_absolute_error: 0.3600\n",
      "Epoch 20/100\n",
      "6/6 [==============================] - 0s 24ms/step - loss: 0.0077 - root_mean_squared_error: 0.0880 - mean_absolute_error: 0.0671 - val_loss: 0.1313 - val_root_mean_squared_error: 0.3624 - val_mean_absolute_error: 0.3496\n",
      "Epoch 21/100\n",
      "6/6 [==============================] - 0s 25ms/step - loss: 0.0073 - root_mean_squared_error: 0.0853 - mean_absolute_error: 0.0651 - val_loss: 0.1233 - val_root_mean_squared_error: 0.3512 - val_mean_absolute_error: 0.3387\n",
      "Epoch 22/100\n",
      "6/6 [==============================] - 0s 26ms/step - loss: 0.0068 - root_mean_squared_error: 0.0826 - mean_absolute_error: 0.0628 - val_loss: 0.1163 - val_root_mean_squared_error: 0.3411 - val_mean_absolute_error: 0.3289\n",
      "Epoch 23/100\n",
      "6/6 [==============================] - 0s 28ms/step - loss: 0.0064 - root_mean_squared_error: 0.0798 - mean_absolute_error: 0.0604 - val_loss: 0.1090 - val_root_mean_squared_error: 0.3301 - val_mean_absolute_error: 0.3182\n",
      "Epoch 24/100\n",
      "6/6 [==============================] - 0s 40ms/step - loss: 0.0059 - root_mean_squared_error: 0.0768 - mean_absolute_error: 0.0576 - val_loss: 0.1031 - val_root_mean_squared_error: 0.3211 - val_mean_absolute_error: 0.3095\n",
      "Epoch 25/100\n",
      "6/6 [==============================] - 0s 33ms/step - loss: 0.0055 - root_mean_squared_error: 0.0740 - mean_absolute_error: 0.0545 - val_loss: 0.0975 - val_root_mean_squared_error: 0.3123 - val_mean_absolute_error: 0.3011\n",
      "Epoch 26/100\n",
      "6/6 [==============================] - 0s 38ms/step - loss: 0.0051 - root_mean_squared_error: 0.0712 - mean_absolute_error: 0.0515 - val_loss: 0.0919 - val_root_mean_squared_error: 0.3032 - val_mean_absolute_error: 0.2923\n",
      "Epoch 27/100\n",
      "6/6 [==============================] - 0s 24ms/step - loss: 0.0047 - root_mean_squared_error: 0.0685 - mean_absolute_error: 0.0486 - val_loss: 0.0862 - val_root_mean_squared_error: 0.2936 - val_mean_absolute_error: 0.2830\n",
      "Epoch 28/100\n",
      "6/6 [==============================] - 0s 24ms/step - loss: 0.0043 - root_mean_squared_error: 0.0658 - mean_absolute_error: 0.0459 - val_loss: 0.0798 - val_root_mean_squared_error: 0.2825 - val_mean_absolute_error: 0.2722\n",
      "Epoch 29/100\n",
      "6/6 [==============================] - 0s 20ms/step - loss: 0.0039 - root_mean_squared_error: 0.0628 - mean_absolute_error: 0.0438 - val_loss: 0.0718 - val_root_mean_squared_error: 0.2679 - val_mean_absolute_error: 0.2578\n",
      "Epoch 30/100\n",
      "6/6 [==============================] - 0s 21ms/step - loss: 0.0035 - root_mean_squared_error: 0.0595 - mean_absolute_error: 0.0422 - val_loss: 0.0612 - val_root_mean_squared_error: 0.2475 - val_mean_absolute_error: 0.2376\n",
      "Epoch 31/100\n",
      "6/6 [==============================] - 0s 23ms/step - loss: 0.0031 - root_mean_squared_error: 0.0555 - mean_absolute_error: 0.0410 - val_loss: 0.0513 - val_root_mean_squared_error: 0.2266 - val_mean_absolute_error: 0.2169\n",
      "Epoch 32/100\n",
      "6/6 [==============================] - 0s 23ms/step - loss: 0.0027 - root_mean_squared_error: 0.0519 - mean_absolute_error: 0.0396 - val_loss: 0.0438 - val_root_mean_squared_error: 0.2092 - val_mean_absolute_error: 0.1998\n",
      "Epoch 33/100\n",
      "6/6 [==============================] - 0s 23ms/step - loss: 0.0024 - root_mean_squared_error: 0.0486 - mean_absolute_error: 0.0378 - val_loss: 0.0378 - val_root_mean_squared_error: 0.1943 - val_mean_absolute_error: 0.1851\n",
      "Epoch 34/100\n",
      "6/6 [==============================] - 0s 23ms/step - loss: 0.0021 - root_mean_squared_error: 0.0454 - mean_absolute_error: 0.0354 - val_loss: 0.0335 - val_root_mean_squared_error: 0.1831 - val_mean_absolute_error: 0.1741\n",
      "Epoch 35/100\n",
      "6/6 [==============================] - 0s 22ms/step - loss: 0.0018 - root_mean_squared_error: 0.0423 - mean_absolute_error: 0.0322 - val_loss: 0.0302 - val_root_mean_squared_error: 0.1737 - val_mean_absolute_error: 0.1650\n",
      "Epoch 36/100\n",
      "6/6 [==============================] - 0s 21ms/step - loss: 0.0015 - root_mean_squared_error: 0.0394 - mean_absolute_error: 0.0292 - val_loss: 0.0264 - val_root_mean_squared_error: 0.1624 - val_mean_absolute_error: 0.1539\n",
      "Epoch 37/100\n",
      "6/6 [==============================] - 0s 20ms/step - loss: 0.0013 - root_mean_squared_error: 0.0365 - mean_absolute_error: 0.0269 - val_loss: 0.0225 - val_root_mean_squared_error: 0.1499 - val_mean_absolute_error: 0.1414\n",
      "Epoch 38/100\n",
      "6/6 [==============================] - 0s 22ms/step - loss: 0.0011 - root_mean_squared_error: 0.0338 - mean_absolute_error: 0.0248 - val_loss: 0.0191 - val_root_mean_squared_error: 0.1383 - val_mean_absolute_error: 0.1300\n",
      "Epoch 39/100\n",
      "6/6 [==============================] - 0s 23ms/step - loss: 9.6624e-04 - root_mean_squared_error: 0.0311 - mean_absolute_error: 0.0224 - val_loss: 0.0168 - val_root_mean_squared_error: 0.1295 - val_mean_absolute_error: 0.1213\n",
      "Epoch 40/100\n",
      "6/6 [==============================] - 0s 23ms/step - loss: 8.2755e-04 - root_mean_squared_error: 0.0288 - mean_absolute_error: 0.0201 - val_loss: 0.0146 - val_root_mean_squared_error: 0.1210 - val_mean_absolute_error: 0.1128\n",
      "Epoch 41/100\n",
      "6/6 [==============================] - 0s 23ms/step - loss: 7.1593e-04 - root_mean_squared_error: 0.0268 - mean_absolute_error: 0.0180 - val_loss: 0.0127 - val_root_mean_squared_error: 0.1128 - val_mean_absolute_error: 0.1046\n",
      "Epoch 42/100\n",
      "6/6 [==============================] - 0s 22ms/step - loss: 6.1859e-04 - root_mean_squared_error: 0.0249 - mean_absolute_error: 0.0164 - val_loss: 0.0110 - val_root_mean_squared_error: 0.1047 - val_mean_absolute_error: 0.0963\n",
      "Epoch 43/100\n",
      "6/6 [==============================] - 0s 21ms/step - loss: 5.3726e-04 - root_mean_squared_error: 0.0232 - mean_absolute_error: 0.0151 - val_loss: 0.0093 - val_root_mean_squared_error: 0.0964 - val_mean_absolute_error: 0.0880\n",
      "Epoch 44/100\n",
      "6/6 [==============================] - 0s 26ms/step - loss: 4.6670e-04 - root_mean_squared_error: 0.0216 - mean_absolute_error: 0.0142 - val_loss: 0.0076 - val_root_mean_squared_error: 0.0875 - val_mean_absolute_error: 0.0790\n",
      "Epoch 45/100\n",
      "6/6 [==============================] - 0s 25ms/step - loss: 4.0574e-04 - root_mean_squared_error: 0.0201 - mean_absolute_error: 0.0133 - val_loss: 0.0065 - val_root_mean_squared_error: 0.0808 - val_mean_absolute_error: 0.0722\n",
      "Epoch 46/100\n",
      "6/6 [==============================] - 0s 23ms/step - loss: 3.5629e-04 - root_mean_squared_error: 0.0189 - mean_absolute_error: 0.0122 - val_loss: 0.0056 - val_root_mean_squared_error: 0.0751 - val_mean_absolute_error: 0.0664\n",
      "Epoch 47/100\n",
      "6/6 [==============================] - 0s 20ms/step - loss: 3.1644e-04 - root_mean_squared_error: 0.0178 - mean_absolute_error: 0.0112 - val_loss: 0.0047 - val_root_mean_squared_error: 0.0687 - val_mean_absolute_error: 0.0598\n",
      "Epoch 48/100\n",
      "6/6 [==============================] - 0s 20ms/step - loss: 2.8420e-04 - root_mean_squared_error: 0.0169 - mean_absolute_error: 0.0107 - val_loss: 0.0040 - val_root_mean_squared_error: 0.0630 - val_mean_absolute_error: 0.0539\n",
      "Epoch 49/100\n",
      "6/6 [==============================] - 0s 20ms/step - loss: 2.5679e-04 - root_mean_squared_error: 0.0160 - mean_absolute_error: 0.0100 - val_loss: 0.0035 - val_root_mean_squared_error: 0.0588 - val_mean_absolute_error: 0.0498\n",
      "Epoch 50/100\n",
      "6/6 [==============================] - 0s 20ms/step - loss: 2.3478e-04 - root_mean_squared_error: 0.0153 - mean_absolute_error: 0.0093 - val_loss: 0.0029 - val_root_mean_squared_error: 0.0538 - val_mean_absolute_error: 0.0447\n",
      "Epoch 51/100\n",
      "6/6 [==============================] - 0s 20ms/step - loss: 2.1466e-04 - root_mean_squared_error: 0.0147 - mean_absolute_error: 0.0088 - val_loss: 0.0024 - val_root_mean_squared_error: 0.0491 - val_mean_absolute_error: 0.0404\n",
      "Epoch 52/100\n",
      "6/6 [==============================] - 0s 20ms/step - loss: 2.0186e-04 - root_mean_squared_error: 0.0142 - mean_absolute_error: 0.0082 - val_loss: 0.0021 - val_root_mean_squared_error: 0.0463 - val_mean_absolute_error: 0.0379\n",
      "Epoch 53/100\n",
      "6/6 [==============================] - 0s 21ms/step - loss: 1.9089e-04 - root_mean_squared_error: 0.0138 - mean_absolute_error: 0.0075 - val_loss: 0.0019 - val_root_mean_squared_error: 0.0439 - val_mean_absolute_error: 0.0358\n",
      "Epoch 54/100\n",
      "6/6 [==============================] - 0s 21ms/step - loss: 1.8358e-04 - root_mean_squared_error: 0.0135 - mean_absolute_error: 0.0068 - val_loss: 0.0018 - val_root_mean_squared_error: 0.0427 - val_mean_absolute_error: 0.0347\n",
      "Epoch 55/100\n",
      "6/6 [==============================] - 0s 20ms/step - loss: 1.8041e-04 - root_mean_squared_error: 0.0134 - mean_absolute_error: 0.0063 - val_loss: 0.0017 - val_root_mean_squared_error: 0.0410 - val_mean_absolute_error: 0.0332\n",
      "Epoch 56/100\n",
      "6/6 [==============================] - 0s 21ms/step - loss: 1.7611e-04 - root_mean_squared_error: 0.0133 - mean_absolute_error: 0.0062 - val_loss: 0.0015 - val_root_mean_squared_error: 0.0387 - val_mean_absolute_error: 0.0309\n",
      "Epoch 57/100\n",
      "6/6 [==============================] - 0s 20ms/step - loss: 1.7442e-04 - root_mean_squared_error: 0.0132 - mean_absolute_error: 0.0062 - val_loss: 0.0014 - val_root_mean_squared_error: 0.0372 - val_mean_absolute_error: 0.0294\n",
      "Epoch 58/100\n",
      "6/6 [==============================] - 0s 21ms/step - loss: 1.7426e-04 - root_mean_squared_error: 0.0132 - mean_absolute_error: 0.0063 - val_loss: 0.0013 - val_root_mean_squared_error: 0.0361 - val_mean_absolute_error: 0.0283\n",
      "Epoch 59/100\n",
      "6/6 [==============================] - 0s 19ms/step - loss: 1.7328e-04 - root_mean_squared_error: 0.0132 - mean_absolute_error: 0.0062 - val_loss: 0.0015 - val_root_mean_squared_error: 0.0383 - val_mean_absolute_error: 0.0305\n",
      "Epoch 60/100\n",
      "6/6 [==============================] - 0s 20ms/step - loss: 1.8676e-04 - root_mean_squared_error: 0.0137 - mean_absolute_error: 0.0064 - val_loss: 0.0022 - val_root_mean_squared_error: 0.0466 - val_mean_absolute_error: 0.0384\n",
      "Epoch 61/100\n",
      "6/6 [==============================] - 0s 19ms/step - loss: 2.1385e-04 - root_mean_squared_error: 0.0146 - mean_absolute_error: 0.0078 - val_loss: 0.0023 - val_root_mean_squared_error: 0.0482 - val_mean_absolute_error: 0.0398\n",
      "Epoch 62/100\n",
      "6/6 [==============================] - 0s 19ms/step - loss: 2.0182e-04 - root_mean_squared_error: 0.0142 - mean_absolute_error: 0.0067 - val_loss: 0.0021 - val_root_mean_squared_error: 0.0461 - val_mean_absolute_error: 0.0378\n",
      "Epoch 63/100\n",
      "6/6 [==============================] - 0s 19ms/step - loss: 1.8821e-04 - root_mean_squared_error: 0.0137 - mean_absolute_error: 0.0065 - val_loss: 0.0020 - val_root_mean_squared_error: 0.0445 - val_mean_absolute_error: 0.0363\n",
      "Epoch 64/100\n",
      "6/6 [==============================] - 0s 25ms/step - loss: 1.8548e-04 - root_mean_squared_error: 0.0136 - mean_absolute_error: 0.0071 - val_loss: 0.0018 - val_root_mean_squared_error: 0.0429 - val_mean_absolute_error: 0.0349\n",
      "Epoch 65/100\n",
      "6/6 [==============================] - 0s 27ms/step - loss: 1.8608e-04 - root_mean_squared_error: 0.0136 - mean_absolute_error: 0.0075 - val_loss: 0.0018 - val_root_mean_squared_error: 0.0419 - val_mean_absolute_error: 0.0339\n",
      "Epoch 66/100\n",
      "6/6 [==============================] - 0s 22ms/step - loss: 1.8337e-04 - root_mean_squared_error: 0.0135 - mean_absolute_error: 0.0072 - val_loss: 0.0017 - val_root_mean_squared_error: 0.0417 - val_mean_absolute_error: 0.0337\n",
      "Epoch 67/100\n",
      "6/6 [==============================] - 0s 23ms/step - loss: 1.7988e-04 - root_mean_squared_error: 0.0134 - mean_absolute_error: 0.0067 - val_loss: 0.0016 - val_root_mean_squared_error: 0.0404 - val_mean_absolute_error: 0.0325\n",
      "Epoch 68/100\n",
      "6/6 [==============================] - 0s 23ms/step - loss: 1.7651e-04 - root_mean_squared_error: 0.0133 - mean_absolute_error: 0.0066 - val_loss: 0.0013 - val_root_mean_squared_error: 0.0366 - val_mean_absolute_error: 0.0288\n",
      "Epoch 69/100\n",
      "6/6 [==============================] - 0s 26ms/step - loss: 1.7736e-04 - root_mean_squared_error: 0.0133 - mean_absolute_error: 0.0067 - val_loss: 0.0012 - val_root_mean_squared_error: 0.0350 - val_mean_absolute_error: 0.0272\n",
      "Epoch 70/100\n",
      "6/6 [==============================] - 0s 21ms/step - loss: 1.7436e-04 - root_mean_squared_error: 0.0132 - mean_absolute_error: 0.0063 - val_loss: 0.0012 - val_root_mean_squared_error: 0.0348 - val_mean_absolute_error: 0.0271\n",
      "Epoch 71/100\n",
      "6/6 [==============================] - 0s 22ms/step - loss: 1.7274e-04 - root_mean_squared_error: 0.0131 - mean_absolute_error: 0.0059 - val_loss: 0.0012 - val_root_mean_squared_error: 0.0347 - val_mean_absolute_error: 0.0269\n",
      "Epoch 72/100\n",
      "6/6 [==============================] - 0s 19ms/step - loss: 1.7233e-04 - root_mean_squared_error: 0.0131 - mean_absolute_error: 0.0058 - val_loss: 0.0012 - val_root_mean_squared_error: 0.0347 - val_mean_absolute_error: 0.0270\n",
      "Epoch 73/100\n",
      "6/6 [==============================] - 0s 22ms/step - loss: 1.7228e-04 - root_mean_squared_error: 0.0131 - mean_absolute_error: 0.0057 - val_loss: 0.0012 - val_root_mean_squared_error: 0.0348 - val_mean_absolute_error: 0.0271\n",
      "Epoch 74/100\n",
      "6/6 [==============================] - 0s 19ms/step - loss: 1.7232e-04 - root_mean_squared_error: 0.0131 - mean_absolute_error: 0.0056 - val_loss: 0.0012 - val_root_mean_squared_error: 0.0348 - val_mean_absolute_error: 0.0271\n",
      "Epoch 75/100\n",
      "6/6 [==============================] - 0s 19ms/step - loss: 1.7232e-04 - root_mean_squared_error: 0.0131 - mean_absolute_error: 0.0057 - val_loss: 0.0012 - val_root_mean_squared_error: 0.0349 - val_mean_absolute_error: 0.0271\n",
      "Epoch 76/100\n",
      "6/6 [==============================] - 0s 18ms/step - loss: 1.7227e-04 - root_mean_squared_error: 0.0131 - mean_absolute_error: 0.0057 - val_loss: 0.0012 - val_root_mean_squared_error: 0.0350 - val_mean_absolute_error: 0.0273\n",
      "Epoch 77/100\n",
      "6/6 [==============================] - 0s 20ms/step - loss: 1.7224e-04 - root_mean_squared_error: 0.0131 - mean_absolute_error: 0.0057 - val_loss: 0.0012 - val_root_mean_squared_error: 0.0351 - val_mean_absolute_error: 0.0274\n",
      "Epoch 78/100\n",
      "6/6 [==============================] - 0s 23ms/step - loss: 1.7236e-04 - root_mean_squared_error: 0.0131 - mean_absolute_error: 0.0057 - val_loss: 0.0012 - val_root_mean_squared_error: 0.0353 - val_mean_absolute_error: 0.0275\n",
      "Epoch 79/100\n",
      "6/6 [==============================] - 0s 27ms/step - loss: 1.7214e-04 - root_mean_squared_error: 0.0131 - mean_absolute_error: 0.0057 - val_loss: 0.0012 - val_root_mean_squared_error: 0.0350 - val_mean_absolute_error: 0.0273\n",
      "Epoch 80/100\n",
      "6/6 [==============================] - 0s 25ms/step - loss: 1.7225e-04 - root_mean_squared_error: 0.0131 - mean_absolute_error: 0.0058 - val_loss: 0.0012 - val_root_mean_squared_error: 0.0346 - val_mean_absolute_error: 0.0269\n",
      "Epoch 81/100\n",
      "6/6 [==============================] - 0s 24ms/step - loss: 1.7292e-04 - root_mean_squared_error: 0.0131 - mean_absolute_error: 0.0059 - val_loss: 0.0012 - val_root_mean_squared_error: 0.0346 - val_mean_absolute_error: 0.0268\n",
      "Epoch 82/100\n",
      "6/6 [==============================] - 0s 23ms/step - loss: 1.7248e-04 - root_mean_squared_error: 0.0131 - mean_absolute_error: 0.0058 - val_loss: 0.0012 - val_root_mean_squared_error: 0.0348 - val_mean_absolute_error: 0.0271\n",
      "Epoch 83/100\n",
      "6/6 [==============================] - 0s 21ms/step - loss: 1.7263e-04 - root_mean_squared_error: 0.0131 - mean_absolute_error: 0.0057 - val_loss: 0.0012 - val_root_mean_squared_error: 0.0352 - val_mean_absolute_error: 0.0275\n",
      "Epoch 84/100\n",
      "6/6 [==============================] - 0s 19ms/step - loss: 1.7229e-04 - root_mean_squared_error: 0.0131 - mean_absolute_error: 0.0057 - val_loss: 0.0012 - val_root_mean_squared_error: 0.0352 - val_mean_absolute_error: 0.0275\n",
      "Epoch 85/100\n",
      "6/6 [==============================] - 0s 19ms/step - loss: 1.7225e-04 - root_mean_squared_error: 0.0131 - mean_absolute_error: 0.0057 - val_loss: 0.0013 - val_root_mean_squared_error: 0.0355 - val_mean_absolute_error: 0.0277\n",
      "Epoch 86/100\n",
      "6/6 [==============================] - 0s 20ms/step - loss: 1.7296e-04 - root_mean_squared_error: 0.0132 - mean_absolute_error: 0.0057 - val_loss: 0.0013 - val_root_mean_squared_error: 0.0358 - val_mean_absolute_error: 0.0281\n",
      "Epoch 87/100\n",
      "6/6 [==============================] - 0s 35ms/step - loss: 1.7247e-04 - root_mean_squared_error: 0.0131 - mean_absolute_error: 0.0057 - val_loss: 0.0012 - val_root_mean_squared_error: 0.0353 - val_mean_absolute_error: 0.0275\n",
      "Epoch 88/100\n",
      "6/6 [==============================] - 0s 20ms/step - loss: 1.7194e-04 - root_mean_squared_error: 0.0131 - mean_absolute_error: 0.0057 - val_loss: 0.0012 - val_root_mean_squared_error: 0.0349 - val_mean_absolute_error: 0.0272\n",
      "Epoch 89/100\n",
      "6/6 [==============================] - 0s 20ms/step - loss: 1.7230e-04 - root_mean_squared_error: 0.0131 - mean_absolute_error: 0.0058 - val_loss: 0.0012 - val_root_mean_squared_error: 0.0346 - val_mean_absolute_error: 0.0269\n",
      "Epoch 90/100\n",
      "6/6 [==============================] - 0s 28ms/step - loss: 1.7241e-04 - root_mean_squared_error: 0.0131 - mean_absolute_error: 0.0058 - val_loss: 0.0012 - val_root_mean_squared_error: 0.0346 - val_mean_absolute_error: 0.0269\n",
      "Epoch 91/100\n",
      "6/6 [==============================] - 0s 29ms/step - loss: 1.7238e-04 - root_mean_squared_error: 0.0131 - mean_absolute_error: 0.0058 - val_loss: 0.0012 - val_root_mean_squared_error: 0.0345 - val_mean_absolute_error: 0.0267\n",
      "Epoch 92/100\n",
      "6/6 [==============================] - 0s 26ms/step - loss: 1.7249e-04 - root_mean_squared_error: 0.0131 - mean_absolute_error: 0.0058 - val_loss: 0.0012 - val_root_mean_squared_error: 0.0345 - val_mean_absolute_error: 0.0268\n",
      "Epoch 93/100\n",
      "6/6 [==============================] - 0s 20ms/step - loss: 1.7226e-04 - root_mean_squared_error: 0.0131 - mean_absolute_error: 0.0057 - val_loss: 0.0012 - val_root_mean_squared_error: 0.0350 - val_mean_absolute_error: 0.0273\n",
      "Epoch 94/100\n",
      "6/6 [==============================] - 0s 21ms/step - loss: 1.7249e-04 - root_mean_squared_error: 0.0131 - mean_absolute_error: 0.0057 - val_loss: 0.0013 - val_root_mean_squared_error: 0.0364 - val_mean_absolute_error: 0.0286\n",
      "Epoch 95/100\n",
      "6/6 [==============================] - 0s 20ms/step - loss: 1.7435e-04 - root_mean_squared_error: 0.0132 - mean_absolute_error: 0.0057 - val_loss: 0.0014 - val_root_mean_squared_error: 0.0371 - val_mean_absolute_error: 0.0293\n",
      "Epoch 96/100\n",
      "6/6 [==============================] - 0s 23ms/step - loss: 1.7386e-04 - root_mean_squared_error: 0.0132 - mean_absolute_error: 0.0057 - val_loss: 0.0013 - val_root_mean_squared_error: 0.0367 - val_mean_absolute_error: 0.0289\n",
      "Epoch 97/100\n",
      "6/6 [==============================] - 0s 20ms/step - loss: 1.7224e-04 - root_mean_squared_error: 0.0131 - mean_absolute_error: 0.0058 - val_loss: 0.0013 - val_root_mean_squared_error: 0.0363 - val_mean_absolute_error: 0.0285\n",
      "Epoch 98/100\n",
      "6/6 [==============================] - 0s 30ms/step - loss: 1.7289e-04 - root_mean_squared_error: 0.0131 - mean_absolute_error: 0.0060 - val_loss: 0.0013 - val_root_mean_squared_error: 0.0362 - val_mean_absolute_error: 0.0284\n",
      "Epoch 99/100\n",
      "6/6 [==============================] - 0s 27ms/step - loss: 1.7391e-04 - root_mean_squared_error: 0.0132 - mean_absolute_error: 0.0058 - val_loss: 0.0014 - val_root_mean_squared_error: 0.0376 - val_mean_absolute_error: 0.0298\n",
      "Epoch 100/100\n",
      "6/6 [==============================] - 0s 34ms/step - loss: 1.7439e-04 - root_mean_squared_error: 0.0132 - mean_absolute_error: 0.0057 - val_loss: 0.0014 - val_root_mean_squared_error: 0.0373 - val_mean_absolute_error: 0.0296\n"
     ]
    },
    {
     "data": {
      "text/plain": [
       "<keras.src.callbacks.History at 0x28f9874c0>"
      ]
     },
     "execution_count": 36,
     "metadata": {},
     "output_type": "execute_result"
    }
   ],
   "source": [
    "meta_model.fit(meta_training_X, meta_training_y, epochs = 100, validation_data = (meta_validation_X, meta_validation_y), callbacks = [cp], batch_size = 256)"
   ]
  },
  {
   "cell_type": "code",
   "execution_count": 37,
   "metadata": {},
   "outputs": [],
   "source": [
    "meta_model = load_model('models/meta_model.h5')"
   ]
  },
  {
   "cell_type": "code",
   "execution_count": 38,
   "metadata": {},
   "outputs": [
    {
     "name": "stdout",
     "output_type": "stream",
     "text": [
      "6/6 [==============================] - 0s 2ms/step\n"
     ]
    },
    {
     "data": {
      "text/html": [
       "<div>\n",
       "<style scoped>\n",
       "    .dataframe tbody tr th:only-of-type {\n",
       "        vertical-align: middle;\n",
       "    }\n",
       "\n",
       "    .dataframe tbody tr th {\n",
       "        vertical-align: top;\n",
       "    }\n",
       "\n",
       "    .dataframe thead th {\n",
       "        text-align: right;\n",
       "    }\n",
       "</style>\n",
       "<table border=\"1\" class=\"dataframe\">\n",
       "  <thead>\n",
       "    <tr style=\"text-align: right;\">\n",
       "      <th></th>\n",
       "      <th>Actual</th>\n",
       "      <th>Predicted</th>\n",
       "    </tr>\n",
       "  </thead>\n",
       "  <tbody>\n",
       "    <tr>\n",
       "      <th>0</th>\n",
       "      <td>0.824444</td>\n",
       "      <td>0.814875</td>\n",
       "    </tr>\n",
       "    <tr>\n",
       "      <th>1</th>\n",
       "      <td>0.851078</td>\n",
       "      <td>0.809617</td>\n",
       "    </tr>\n",
       "    <tr>\n",
       "      <th>2</th>\n",
       "      <td>0.838380</td>\n",
       "      <td>0.830699</td>\n",
       "    </tr>\n",
       "    <tr>\n",
       "      <th>3</th>\n",
       "      <td>0.847961</td>\n",
       "      <td>0.822002</td>\n",
       "    </tr>\n",
       "    <tr>\n",
       "      <th>4</th>\n",
       "      <td>0.842472</td>\n",
       "      <td>0.829119</td>\n",
       "    </tr>\n",
       "    <tr>\n",
       "      <th>...</th>\n",
       "      <td>...</td>\n",
       "      <td>...</td>\n",
       "    </tr>\n",
       "    <tr>\n",
       "      <th>156</th>\n",
       "      <td>0.347016</td>\n",
       "      <td>0.366051</td>\n",
       "    </tr>\n",
       "    <tr>\n",
       "      <th>157</th>\n",
       "      <td>0.354000</td>\n",
       "      <td>0.347902</td>\n",
       "    </tr>\n",
       "    <tr>\n",
       "      <th>158</th>\n",
       "      <td>0.365441</td>\n",
       "      <td>0.352958</td>\n",
       "    </tr>\n",
       "    <tr>\n",
       "      <th>159</th>\n",
       "      <td>0.404446</td>\n",
       "      <td>0.364049</td>\n",
       "    </tr>\n",
       "    <tr>\n",
       "      <th>160</th>\n",
       "      <td>0.393001</td>\n",
       "      <td>0.402987</td>\n",
       "    </tr>\n",
       "  </tbody>\n",
       "</table>\n",
       "<p>161 rows × 2 columns</p>\n",
       "</div>"
      ],
      "text/plain": [
       "       Actual  Predicted\n",
       "0    0.824444   0.814875\n",
       "1    0.851078   0.809617\n",
       "2    0.838380   0.830699\n",
       "3    0.847961   0.822002\n",
       "4    0.842472   0.829119\n",
       "..        ...        ...\n",
       "156  0.347016   0.366051\n",
       "157  0.354000   0.347902\n",
       "158  0.365441   0.352958\n",
       "159  0.404446   0.364049\n",
       "160  0.393001   0.402987\n",
       "\n",
       "[161 rows x 2 columns]"
      ]
     },
     "execution_count": 38,
     "metadata": {},
     "output_type": "execute_result"
    }
   ],
   "source": [
    "test_predictions = meta_model.predict(meta_testing_X)\n",
    "test_results = pd.DataFrame({'Actual': meta_testing_y.flatten(), 'Predicted': test_predictions.flatten()})\n",
    "test_results"
   ]
  },
  {
   "cell_type": "code",
   "execution_count": 39,
   "metadata": {},
   "outputs": [],
   "source": [
    "# unscale the data to get the actual values\n",
    "test_results['Actual'] = scaler.inverse_transform(test_results[['Actual']])\n",
    "test_results['Predicted'] = scaler.inverse_transform(test_results[['Predicted']])\n"
   ]
  },
  {
   "cell_type": "code",
   "execution_count": 40,
   "metadata": {},
   "outputs": [
    {
     "data": {
      "text/html": [
       "<div>\n",
       "<style scoped>\n",
       "    .dataframe tbody tr th:only-of-type {\n",
       "        vertical-align: middle;\n",
       "    }\n",
       "\n",
       "    .dataframe tbody tr th {\n",
       "        vertical-align: top;\n",
       "    }\n",
       "\n",
       "    .dataframe thead th {\n",
       "        text-align: right;\n",
       "    }\n",
       "</style>\n",
       "<table border=\"1\" class=\"dataframe\">\n",
       "  <thead>\n",
       "    <tr style=\"text-align: right;\">\n",
       "      <th></th>\n",
       "      <th>Actual</th>\n",
       "      <th>Predicted</th>\n",
       "    </tr>\n",
       "  </thead>\n",
       "  <tbody>\n",
       "    <tr>\n",
       "      <th>0</th>\n",
       "      <td>3890.751555</td>\n",
       "      <td>3846.659180</td>\n",
       "    </tr>\n",
       "    <tr>\n",
       "      <th>1</th>\n",
       "      <td>4013.463255</td>\n",
       "      <td>3822.432861</td>\n",
       "    </tr>\n",
       "    <tr>\n",
       "      <th>2</th>\n",
       "      <td>3954.958255</td>\n",
       "      <td>3919.567383</td>\n",
       "    </tr>\n",
       "    <tr>\n",
       "      <th>3</th>\n",
       "      <td>3999.103603</td>\n",
       "      <td>3879.497803</td>\n",
       "    </tr>\n",
       "    <tr>\n",
       "      <th>4</th>\n",
       "      <td>3973.811172</td>\n",
       "      <td>3912.289062</td>\n",
       "    </tr>\n",
       "    <tr>\n",
       "      <th>...</th>\n",
       "      <td>...</td>\n",
       "      <td>...</td>\n",
       "    </tr>\n",
       "    <tr>\n",
       "      <th>156</th>\n",
       "      <td>1691.015518</td>\n",
       "      <td>1778.717041</td>\n",
       "    </tr>\n",
       "    <tr>\n",
       "      <th>157</th>\n",
       "      <td>1723.194173</td>\n",
       "      <td>1695.098999</td>\n",
       "    </tr>\n",
       "    <tr>\n",
       "      <th>158</th>\n",
       "      <td>1775.906941</td>\n",
       "      <td>1718.395142</td>\n",
       "    </tr>\n",
       "    <tr>\n",
       "      <th>159</th>\n",
       "      <td>1955.624340</td>\n",
       "      <td>1769.493896</td>\n",
       "    </tr>\n",
       "    <tr>\n",
       "      <th>160</th>\n",
       "      <td>1902.888135</td>\n",
       "      <td>1948.900146</td>\n",
       "    </tr>\n",
       "  </tbody>\n",
       "</table>\n",
       "<p>161 rows × 2 columns</p>\n",
       "</div>"
      ],
      "text/plain": [
       "          Actual    Predicted\n",
       "0    3890.751555  3846.659180\n",
       "1    4013.463255  3822.432861\n",
       "2    3954.958255  3919.567383\n",
       "3    3999.103603  3879.497803\n",
       "4    3973.811172  3912.289062\n",
       "..           ...          ...\n",
       "156  1691.015518  1778.717041\n",
       "157  1723.194173  1695.098999\n",
       "158  1775.906941  1718.395142\n",
       "159  1955.624340  1769.493896\n",
       "160  1902.888135  1948.900146\n",
       "\n",
       "[161 rows x 2 columns]"
      ]
     },
     "execution_count": 40,
     "metadata": {},
     "output_type": "execute_result"
    }
   ],
   "source": [
    "test_results"
   ]
  },
  {
   "cell_type": "code",
   "execution_count": 41,
   "metadata": {},
   "outputs": [],
   "source": [
    "test_results.index = df[60:]['Date'][int(len(predictions_df) * 0.9):].to_list()"
   ]
  },
  {
   "cell_type": "code",
   "execution_count": 42,
   "metadata": {},
   "outputs": [
    {
     "data": {
      "text/html": [
       "<div>\n",
       "<style scoped>\n",
       "    .dataframe tbody tr th:only-of-type {\n",
       "        vertical-align: middle;\n",
       "    }\n",
       "\n",
       "    .dataframe tbody tr th {\n",
       "        vertical-align: top;\n",
       "    }\n",
       "\n",
       "    .dataframe thead th {\n",
       "        text-align: right;\n",
       "    }\n",
       "</style>\n",
       "<table border=\"1\" class=\"dataframe\">\n",
       "  <thead>\n",
       "    <tr style=\"text-align: right;\">\n",
       "      <th></th>\n",
       "      <th>Actual</th>\n",
       "      <th>Predicted</th>\n",
       "    </tr>\n",
       "  </thead>\n",
       "  <tbody>\n",
       "    <tr>\n",
       "      <th>2021-12-22</th>\n",
       "      <td>3890.751555</td>\n",
       "      <td>3846.659180</td>\n",
       "    </tr>\n",
       "    <tr>\n",
       "      <th>2021-12-23</th>\n",
       "      <td>4013.463255</td>\n",
       "      <td>3822.432861</td>\n",
       "    </tr>\n",
       "    <tr>\n",
       "      <th>2021-12-24</th>\n",
       "      <td>3954.958255</td>\n",
       "      <td>3919.567383</td>\n",
       "    </tr>\n",
       "    <tr>\n",
       "      <th>2021-12-25</th>\n",
       "      <td>3999.103603</td>\n",
       "      <td>3879.497803</td>\n",
       "    </tr>\n",
       "    <tr>\n",
       "      <th>2021-12-26</th>\n",
       "      <td>3973.811172</td>\n",
       "      <td>3912.289062</td>\n",
       "    </tr>\n",
       "    <tr>\n",
       "      <th>...</th>\n",
       "      <td>...</td>\n",
       "      <td>...</td>\n",
       "    </tr>\n",
       "    <tr>\n",
       "      <th>2022-05-27</th>\n",
       "      <td>1691.015518</td>\n",
       "      <td>1778.717041</td>\n",
       "    </tr>\n",
       "    <tr>\n",
       "      <th>2022-05-28</th>\n",
       "      <td>1723.194173</td>\n",
       "      <td>1695.098999</td>\n",
       "    </tr>\n",
       "    <tr>\n",
       "      <th>2022-05-29</th>\n",
       "      <td>1775.906941</td>\n",
       "      <td>1718.395142</td>\n",
       "    </tr>\n",
       "    <tr>\n",
       "      <th>2022-05-30</th>\n",
       "      <td>1955.624340</td>\n",
       "      <td>1769.493896</td>\n",
       "    </tr>\n",
       "    <tr>\n",
       "      <th>2022-05-31</th>\n",
       "      <td>1902.888135</td>\n",
       "      <td>1948.900146</td>\n",
       "    </tr>\n",
       "  </tbody>\n",
       "</table>\n",
       "<p>161 rows × 2 columns</p>\n",
       "</div>"
      ],
      "text/plain": [
       "                 Actual    Predicted\n",
       "2021-12-22  3890.751555  3846.659180\n",
       "2021-12-23  4013.463255  3822.432861\n",
       "2021-12-24  3954.958255  3919.567383\n",
       "2021-12-25  3999.103603  3879.497803\n",
       "2021-12-26  3973.811172  3912.289062\n",
       "...                 ...          ...\n",
       "2022-05-27  1691.015518  1778.717041\n",
       "2022-05-28  1723.194173  1695.098999\n",
       "2022-05-29  1775.906941  1718.395142\n",
       "2022-05-30  1955.624340  1769.493896\n",
       "2022-05-31  1902.888135  1948.900146\n",
       "\n",
       "[161 rows x 2 columns]"
      ]
     },
     "execution_count": 42,
     "metadata": {},
     "output_type": "execute_result"
    }
   ],
   "source": [
    "test_results"
   ]
  },
  {
   "cell_type": "code",
   "execution_count": 43,
   "metadata": {},
   "outputs": [
    {
     "data": {
      "text/plain": [
       "<matplotlib.legend.Legend at 0x2901beca0>"
      ]
     },
     "execution_count": 43,
     "metadata": {},
     "output_type": "execute_result"
    },
    {
     "data": {
      "image/png": "[encoded data removed]",
      "text/plain": [
       "<Figure size 2000x1000 with 1 Axes>"
      ]
     },
     "metadata": {},
     "output_type": "display_data"
    }
   ],
   "source": [
    "# Plotting the results\n",
    "plt.figure(figsize = (20, 10))\n",
    "plt.plot(test_results['Actual'], label = 'Actual')\n",
    "plt.plot(test_results['Predicted'], label = 'Predicted')\n",
    "plt.legend()\n"
   ]
  },
  {
   "cell_type": "code",
   "execution_count": 44,
   "metadata": {},
   "outputs": [
    {
     "name": "stdout",
     "output_type": "stream",
     "text": [
      "RMSE: 112.90460436017457, MAE: 88.60734452651145\n"
     ]
    }
   ],
   "source": [
    "rmse = np.sqrt(np.mean((test_results['Actual'] - test_results['Predicted']) ** 2))\n",
    "mae = np.mean(np.abs(test_results['Actual'] - test_results['Predicted']))\n",
    "print(f'RMSE: {rmse}, MAE: {mae}')"
   ]
  },
  {
   "cell_type": "code",
   "execution_count": null,
   "metadata": {},
   "outputs": [],
   "source": []
  }
 ],
 "metadata": {
  "kernelspec": {
   "display_name": "eth",
   "language": "python",
   "name": "python3"
  },
  "language_info": {
   "codemirror_mode": {
    "name": "ipython",
    "version": 3
   },
   "file_extension": ".py",
   "mimetype": "text/x-python",
   "name": "python",
   "nbconvert_exporter": "python",
   "pygments_lexer": "ipython3",
   "version": "3.9.16"
  },
  "orig_nbformat": 4
 },
 "nbformat": 4,
 "nbformat_minor": 2
}
